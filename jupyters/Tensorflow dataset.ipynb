{
 "cells": [
  {
   "cell_type": "markdown",
   "metadata": {},
   "source": [
    "# Tensorflow dataset tutorial"
   ]
  },
  {
   "cell_type": "code",
   "execution_count": 63,
   "metadata": {},
   "outputs": [],
   "source": [
    "import tensorflow as tf"
   ]
  },
  {
   "cell_type": "markdown",
   "metadata": {},
   "source": [
    "## Basic operation\n",
    "\n",
    "Build a dataset from list or np.ndarray by \"tf.data.Dataset.from_tensor_slices\".\n",
    "And make a iterator using \"data.make_one_shot_iterator\"."
   ]
  },
  {
   "cell_type": "code",
   "execution_count": 91,
   "metadata": {},
   "outputs": [],
   "source": [
    "tf.reset_default_graph()\n",
    "data = tf.data.Dataset.from_tensor_slices([0,1,2,3,4])\n",
    "iterator = data.make_one_shot_iterator()"
   ]
  },
  {
   "cell_type": "markdown",
   "metadata": {},
   "source": [
    "This iterator only iteration the full dataset once."
   ]
  },
  {
   "cell_type": "code",
   "execution_count": 92,
   "metadata": {},
   "outputs": [
    {
     "name": "stdout",
     "output_type": "stream",
     "text": [
      "0\n",
      "1\n",
      "2\n",
      "3\n",
      "4\n"
     ]
    }
   ],
   "source": [
    "x = iterator.get_next()\n",
    "sess = tf.Session()\n",
    "for _ in range(5):\n",
    "    print(sess.run(x))"
   ]
  },
  {
   "cell_type": "markdown",
   "metadata": {},
   "source": [
    "If iteration time exceeds dataset size, raise \"OutOfRangeError\"."
   ]
  },
  {
   "cell_type": "code",
   "execution_count": 93,
   "metadata": {},
   "outputs": [
    {
     "name": "stdout",
     "output_type": "stream",
     "text": [
      "<class 'tensorflow.python.framework.errors_impl.OutOfRangeError'>\n"
     ]
    }
   ],
   "source": [
    "try:\n",
    "    sess.run(x)\n",
    "except Exception as e:\n",
    "    print(type(e))"
   ]
  },
  {
   "cell_type": "markdown",
   "metadata": {},
   "source": [
    "## Random batch & multiple epoch\n",
    "\n",
    "* \"Dataset.shuffle\" for random order\n",
    "* \"Dataset.batch\" to set batch size\n",
    "* \"Dataset.repeat\" to set epoch times"
   ]
  },
  {
   "cell_type": "code",
   "execution_count": 98,
   "metadata": {},
   "outputs": [],
   "source": [
    "data = tf.data.Dataset.from_tensor_slices([0,1,2,3,4,5])\n",
    "data = data.shuffle(buffer_size=50).batch(2).repeat(3)\n",
    "iterator = data.make_one_shot_iterator()\n",
    "x = iterator.get_next()"
   ]
  },
  {
   "cell_type": "code",
   "execution_count": 99,
   "metadata": {},
   "outputs": [
    {
     "name": "stdout",
     "output_type": "stream",
     "text": [
      "[4 3]\n",
      "[0 5]\n",
      "[1 2]\n",
      "[1 3]\n",
      "[5 0]\n",
      "[2 4]\n",
      "[2 1]\n",
      "[0 4]\n",
      "[5 3]\n"
     ]
    }
   ],
   "source": [
    "sess = tf.Session()\n",
    "for _ in range(6//2*3):\n",
    "    print(sess.run(x))"
   ]
  }
 ],
 "metadata": {
  "kernelspec": {
   "display_name": "Python 3",
   "language": "python",
   "name": "python3"
  },
  "language_info": {
   "codemirror_mode": {
    "name": "ipython",
    "version": 3
   },
   "file_extension": ".py",
   "mimetype": "text/x-python",
   "name": "python",
   "nbconvert_exporter": "python",
   "pygments_lexer": "ipython3",
   "version": "3.6.2"
  }
 },
 "nbformat": 4,
 "nbformat_minor": 2
}
