{
 "cells": [
  {
   "cell_type": "markdown",
   "metadata": {},
   "source": [
    "##  Correspoing Variable fro Translational and Rotational Motion"
   ]
  },
  {
   "cell_type": "markdown",
   "metadata": {},
   "source": [
    "<table width=800 border=\"1\" style=\"font-size:18px;font-family:serif;\" cellpadding=\"5\">\n",
    "    <tr>\n",
    "        <th>Name</th>\n",
    "        <th>Linear</th>\n",
    "        <th>Angular</th>\n",
    "    </tr>\n",
    "    <tr>\n",
    "        <td>Position</td>\n",
    "        <td>$x$</td>\n",
    "        <td>$\\theta$</td>\n",
    "    </tr>\n",
    "    <tr>\n",
    "        <td>Velocity</td>\n",
    "        <td>$v$</td>\n",
    "        <td>$\\omega$</td>\n",
    "    </tr>\n",
    "    <tr>\n",
    "        <td>Acceleration</td>\n",
    "        <td>$a$</td>\n",
    "        <td>$\\alpha$</td>\n",
    "    </tr>\n",
    "    <tr>\n",
    "        <td>Mass</td>\n",
    "        <td>$m$</td>\n",
    "        <td>$I$</td>\n",
    "    </tr>\n",
    "    <tr>\n",
    "        <td>Kinetic Energy</td>\n",
    "        <td>$\\frac{1}{2}mv^2$</td>\n",
    "        <td>$\\frac{1}{2}I\\omega^2$</td>\n",
    "    </tr>\n",
    "    <tr>\n",
    "        <td>Force (Torque)</td>\n",
    "        <td>$\\vec{F}$</td>\n",
    "        <td>$\\vec{\\tau}=\\vec{r} \\times \\vec{F}$</td>\n",
    "    </tr>\n",
    "    <tr>\n",
    "        <td>Newton II Law</td>\n",
    "        <td>$\\vec{F}=m\\vec{a}$</td>\n",
    "        <td>$\\tau=I\\alpha$</td>\n",
    "    </tr>\n",
    "    <tr>\n",
    "        <td>Work</td>\n",
    "        <td>$W=\\int \\vec{F} dx$</td>\n",
    "        <td>$W=\\int \\vec{\\tau} d\\theta$</td>\n",
    "    </tr>\n",
    "    <tr>\n",
    "        <td>Momentum (particle)</td>\n",
    "        <td>$\\vec{p}$</td>\n",
    "        <td>$\\vec{l}=\\vec{r}\\times\\vec{p}$</td>\n",
    "    </tr>\n",
    "    <tr>\n",
    "        <td>Momentum</td>\n",
    "        <td>$\\vec{P}=m\\vec{v}$</td>\n",
    "        <td>$\\vec{L}=I\\vec{\\omega}$</td>\n",
    "    </tr>\n",
    "        <tr>\n",
    "        <td>Newton II Law</td>\n",
    "        <td>$\\vec{F}_{net}=\\frac{d\\vec{P}}{dt}$</td>\n",
    "        <td>$\\vec{\\tau}_{net}=\\frac{d\\vec{L}}{dt}$</td>\n",
    "    </tr>\n",
    "</table>"
   ]
  },
  {
   "cell_type": "markdown",
   "metadata": {},
   "source": [
    "## Rotation Inertia"
   ]
  },
  {
   "cell_type": "markdown",
   "metadata": {},
   "source": [
    "Consider kinetic energy of a rotation rigid body, we split it to small particle\n",
    "\n",
    "$K=\\frac{1}{2}mv^2=\\frac{1}{2}\\sum_i m_i(r_i\\omega)^2=\\frac{1}{2}(\\sum_im_ir_i^2)\\omega^2$\n",
    "\n",
    "Define $I=\\sum_im_ir_i^2$"
   ]
  },
  {
   "cell_type": "markdown",
   "metadata": {},
   "source": [
    "## Newton's Second Law for Pure Rotation Rigid Body"
   ]
  },
  {
   "cell_type": "markdown",
   "metadata": {},
   "source": [
    "$F_t$ is a tangent force on a small particle\n",
    "\n",
    "$\\tau=F_tr=ma_tr=m(\\alpha r)r=(mr^2)\\alpha=I\\alpha$"
   ]
  }
 ],
 "metadata": {
  "kernelspec": {
   "display_name": "Python 3",
   "language": "python",
   "name": "python3"
  },
  "language_info": {
   "codemirror_mode": {
    "name": "ipython",
    "version": 3
   },
   "file_extension": ".py",
   "mimetype": "text/x-python",
   "name": "python",
   "nbconvert_exporter": "python",
   "pygments_lexer": "ipython3",
   "version": "3.6.2"
  }
 },
 "nbformat": 4,
 "nbformat_minor": 1
}
