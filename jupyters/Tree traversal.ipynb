{
 "cells": [
  {
   "cell_type": "code",
   "execution_count": 5,
   "metadata": {},
   "outputs": [],
   "source": [
    "class Node:\n",
    "    def __init__(self, lc, rc, value):\n",
    "        self.lc = lc\n",
    "        self.rc = rc\n",
    "        self.value = value"
   ]
  },
  {
   "cell_type": "code",
   "execution_count": 12,
   "metadata": {},
   "outputs": [],
   "source": [
    "def traversal(root):\n",
    "    if root.lc is not None:\n",
    "        traversal(root.lc)\n",
    "    print(root.value)\n",
    "    if root.rc is not None:\n",
    "        traversal(root.rc)"
   ]
  },
  {
   "cell_type": "code",
   "execution_count": 13,
   "metadata": {},
   "outputs": [
    {
     "name": "stdout",
     "output_type": "stream",
     "text": [
      "n1\n",
      "n3\n",
      "root\n",
      "n4\n",
      "n2\n"
     ]
    }
   ],
   "source": [
    "n1 = Node(None, None, 'n1')\n",
    "n2 = Node(None, None, 'n2')\n",
    "n3 = Node(n1, None, 'n3')\n",
    "n4 = Node(None, n2, 'n4')\n",
    "root = Node(n3, n4, 'root')\n",
    "# expect n1->n3->root->n4-->n2\n",
    "traversal(root)"
   ]
  },
  {
   "cell_type": "code",
   "execution_count": null,
   "metadata": {},
   "outputs": [],
   "source": []
  }
 ],
 "metadata": {
  "kernelspec": {
   "display_name": "Python 3",
   "language": "python",
   "name": "python3"
  },
  "language_info": {
   "codemirror_mode": {
    "name": "ipython",
    "version": 3
   },
   "file_extension": ".py",
   "mimetype": "text/x-python",
   "name": "python",
   "nbconvert_exporter": "python",
   "pygments_lexer": "ipython3",
   "version": "3.6.2"
  }
 },
 "nbformat": 4,
 "nbformat_minor": 2
}
