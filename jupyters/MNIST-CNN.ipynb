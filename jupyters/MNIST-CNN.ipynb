{
 "cells": [
  {
   "cell_type": "markdown",
   "metadata": {},
   "source": [
    "# Basic CNN using MNIST data\n",
    "\n",
    "This page is implemented by numpy and tensorflow.\n",
    "\n",
    "Demostrate the simplest VGG-like CNN to classify the MNIST hand-written data.\n",
    "\n",
    "* Use $3\\times3$ convolution kernels\n",
    "* Stack $2$ or more convolutions before pooling layer"
   ]
  },
  {
   "cell_type": "code",
   "execution_count": 5,
   "metadata": {},
   "outputs": [
    {
     "name": "stdout",
     "output_type": "stream",
     "text": [
      "1.7.0\n"
     ]
    }
   ],
   "source": [
    "import warnings\n",
    "warnings.filterwarnings('ignore')\n",
    "import numpy as np\n",
    "import tensorflow as tf\n",
    "from tensorflow.examples.tutorials.mnist import input_data\n",
    "print(tf.__version__)"
   ]
  },
  {
   "cell_type": "markdown",
   "metadata": {},
   "source": [
    "Define some MNIST constant"
   ]
  },
  {
   "cell_type": "code",
   "execution_count": 2,
   "metadata": {},
   "outputs": [],
   "source": [
    "height = 28\n",
    "width = 28\n",
    "n_groups = 10\n",
    "raw_image_channel = 1"
   ]
  },
  {
   "cell_type": "markdown",
   "metadata": {},
   "source": [
    "Define weight initializer"
   ]
  },
  {
   "cell_type": "code",
   "execution_count": 3,
   "metadata": {},
   "outputs": [],
   "source": [
    "def initial_weight(shape):\n",
    "    return tf.get_variable('W', shape=shape, initializer=tf.truncated_normal_initializer())\n",
    "def initial_bias(shape):\n",
    "    return tf.get_variable('b', shape=shape, initializer=tf.constant_initializer(value=0.1))"
   ]
  },
  {
   "cell_type": "markdown",
   "metadata": {},
   "source": [
    "Define convolution & relu operation"
   ]
  },
  {
   "cell_type": "code",
   "execution_count": 48,
   "metadata": {},
   "outputs": [],
   "source": [
    "def conv_block(x, channels, name):\n",
    "    input_channels = x.shape.as_list()[-1]\n",
    "    with tf.variable_scope(name):\n",
    "        w = initial_weight([3,3,input_channels,channels])\n",
    "        b = initial_bias([channels])\n",
    "        s = tf.nn.conv2d(x, w, [1,1,1,1], 'SAME')+b\n",
    "        h = tf.nn.relu(s)\n",
    "    return h"
   ]
  },
  {
   "cell_type": "markdown",
   "metadata": {},
   "source": [
    "Build computation graph from x to logits"
   ]
  },
  {
   "cell_type": "code",
   "execution_count": 51,
   "metadata": {},
   "outputs": [],
   "source": [
    "def build_graph(x, n_groups):\n",
    "    with tf.variable_scope('conv1'):\n",
    "        h11 = conv_block(x, 32, 'conv11')\n",
    "        h12 = conv_block(h11, 32, 'conv12')\n",
    "    p1 = tf.nn.pool(h12, [2,2], 'MAX', 'SAME', strides=[2,2])\n",
    "    with tf.variable_scope('conv2'):\n",
    "        h21 = conv_block(p1, 64, 'conv21')\n",
    "        h22 = conv_block(h21, 64, 'conv22')\n",
    "    p2 = tf.nn.pool(h21, [2,2], 'MAX', 'SAME', strides=[2,2])\n",
    "    feature_size = np.cumprod(p2.shape.as_list()[1:])[-1]\n",
    "    flatten = tf.reshape(p2, [-1, feature_size], name='flatten')\n",
    "    with tf.variable_scope('fc1'):\n",
    "        w_fc1 = initial_weight([feature_size, 128])\n",
    "        b_fc1 = initial_bias([128])\n",
    "        s_fc1 = tf.matmul(flatten, w_fc1)+b_fc1\n",
    "        h_fc1 = tf.nn.relu(s_fc1)\n",
    "    with tf.variable_scope('fc2'):\n",
    "        w_fc2 = initial_weight([128, n_groups])\n",
    "        b_fc2 = initial_bias([n_groups])\n",
    "        logits = tf.matmul(h_fc1, w_fc2)+b_fc2\n",
    "    return logits"
   ]
  },
  {
   "cell_type": "markdown",
   "metadata": {},
   "source": [
    "Evalution model"
   ]
  },
  {
   "cell_type": "code",
   "execution_count": 64,
   "metadata": {},
   "outputs": [],
   "source": [
    "def evaluate(y, logits):\n",
    "    loss = tf.losses.softmax_cross_entropy(y, logits)\n",
    "    pred_label = tf.argmax(logits, axis=1)\n",
    "    correct_prediction = tf.equal(tf.argmax(y,axis=1), pred_label)\n",
    "    accuracy = tf.reduce_mean(tf.cast(correct_prediction, tf.float32))\n",
    "    return loss, accuracy"
   ]
  },
  {
   "cell_type": "markdown",
   "metadata": {},
   "source": [
    "Define input data & training algorithm"
   ]
  },
  {
   "cell_type": "code",
   "execution_count": 72,
   "metadata": {},
   "outputs": [],
   "source": [
    "tf.reset_default_graph()\n",
    "x = tf.placeholder(tf.float32, [None, height, width, raw_image_channel], name='x')\n",
    "y = tf.placeholder(tf.float32, [None, n_groups], name='y')\n",
    "logits = build_graph(x, n_groups)\n",
    "loss, accuracy = evaluate(y, logits)\n",
    "train_step = tf.train.AdamOptimizer(1e-4).minimize(loss)"
   ]
  },
  {
   "cell_type": "markdown",
   "metadata": {},
   "source": [
    "Download MNIST dataset"
   ]
  },
  {
   "cell_type": "code",
   "execution_count": 6,
   "metadata": {},
   "outputs": [
    {
     "name": "stdout",
     "output_type": "stream",
     "text": [
      "Extracting ../data/MNIST/train-images-idx3-ubyte.gz\n",
      "Extracting ../data/MNIST/train-labels-idx1-ubyte.gz\n",
      "Extracting ../data/MNIST/t10k-images-idx3-ubyte.gz\n",
      "Extracting ../data/MNIST/t10k-labels-idx1-ubyte.gz\n"
     ]
    }
   ],
   "source": [
    "mnist = input_data.read_data_sets('../data/MNIST/', one_hot=True)"
   ]
  },
  {
   "cell_type": "markdown",
   "metadata": {},
   "source": [
    "Start training"
   ]
  },
  {
   "cell_type": "code",
   "execution_count": 84,
   "metadata": {},
   "outputs": [
    {
     "name": "stdout",
     "output_type": "stream",
     "text": [
      "step 0, training accuracy 0.1200\n",
      "step 100, training accuracy 0.1400\n",
      "step 200, training accuracy 0.2400\n",
      "step 300, training accuracy 0.4800\n",
      "step 400, training accuracy 0.5400\n",
      "step 500, training accuracy 0.4600\n",
      "step 600, training accuracy 0.6200\n",
      "step 700, training accuracy 0.6800\n",
      "step 800, training accuracy 0.7000\n",
      "step 900, training accuracy 0.7600\n",
      "step 1000, training accuracy 0.7600\n",
      "step 1100, training accuracy 0.7200\n",
      "step 1200, training accuracy 0.6800\n",
      "step 1300, training accuracy 0.6800\n",
      "step 1400, training accuracy 0.7000\n",
      "step 1500, training accuracy 0.8600\n",
      "step 1600, training accuracy 0.7600\n",
      "step 1700, training accuracy 0.6800\n",
      "step 1800, training accuracy 0.7600\n",
      "step 1900, training accuracy 0.8000\n",
      "step 2000, training accuracy 0.9400\n",
      "step 2100, training accuracy 0.8200\n",
      "step 2200, training accuracy 0.8400\n",
      "step 2300, training accuracy 0.8000\n",
      "step 2400, training accuracy 0.7800\n",
      "step 2500, training accuracy 0.8000\n",
      "step 2600, training accuracy 0.7600\n",
      "step 2700, training accuracy 0.8600\n",
      "step 2800, training accuracy 0.8200\n",
      "step 2900, training accuracy 0.8400\n",
      "step 3000, training accuracy 0.8400\n",
      "step 3100, training accuracy 0.8200\n",
      "step 3200, training accuracy 0.8600\n",
      "step 3300, training accuracy 0.8400\n",
      "step 3400, training accuracy 0.8000\n",
      "step 3500, training accuracy 0.9000\n",
      "step 3600, training accuracy 0.8600\n",
      "step 3700, training accuracy 0.9000\n",
      "step 3800, training accuracy 0.9400\n",
      "step 3900, training accuracy 0.8600\n",
      "step 4000, training accuracy 0.9000\n",
      "step 4100, training accuracy 0.7800\n",
      "step 4200, training accuracy 0.9800\n",
      "step 4300, training accuracy 0.8600\n",
      "step 4400, training accuracy 0.9200\n",
      "step 4500, training accuracy 0.9400\n",
      "step 4600, training accuracy 0.9800\n",
      "step 4700, training accuracy 0.9200\n",
      "step 4800, training accuracy 0.9200\n",
      "step 4900, training accuracy 0.9400\n",
      "step 5000, training accuracy 0.9400\n",
      "step 5100, training accuracy 0.9200\n",
      "step 5200, training accuracy 0.9000\n",
      "step 5300, training accuracy 0.9600\n",
      "step 5400, training accuracy 0.9200\n",
      "step 5500, training accuracy 0.9200\n",
      "step 5600, training accuracy 0.9600\n",
      "step 5700, training accuracy 0.9400\n",
      "step 5800, training accuracy 0.9400\n",
      "step 5900, training accuracy 0.9400\n",
      "step 6000, training accuracy 0.9600\n",
      "step 6100, training accuracy 0.9600\n",
      "step 6200, training accuracy 0.9600\n",
      "step 6300, training accuracy 0.9400\n",
      "step 6400, training accuracy 0.9000\n",
      "step 6500, training accuracy 0.9800\n",
      "step 6600, training accuracy 0.9800\n",
      "step 6700, training accuracy 0.9600\n",
      "step 6800, training accuracy 0.9000\n",
      "step 6900, training accuracy 0.9600\n",
      "step 7000, training accuracy 0.9800\n",
      "step 7100, training accuracy 0.9200\n",
      "step 7200, training accuracy 0.9600\n",
      "step 7300, training accuracy 0.9200\n",
      "step 7400, training accuracy 0.9600\n",
      "step 7500, training accuracy 0.9400\n",
      "step 7600, training accuracy 0.9400\n",
      "step 7700, training accuracy 0.9600\n",
      "step 7800, training accuracy 0.9000\n",
      "step 7900, training accuracy 0.9600\n",
      "step 8000, training accuracy 0.9600\n",
      "step 8100, training accuracy 0.9200\n",
      "step 8200, training accuracy 0.8800\n",
      "step 8300, training accuracy 0.9600\n",
      "step 8400, training accuracy 0.9400\n",
      "step 8500, training accuracy 0.9000\n",
      "step 8600, training accuracy 0.9200\n",
      "step 8700, training accuracy 0.9000\n",
      "step 8800, training accuracy 0.9400\n",
      "step 8900, training accuracy 0.8800\n",
      "step 9000, training accuracy 0.9800\n",
      "step 9100, training accuracy 0.9600\n",
      "step 9200, training accuracy 0.9000\n",
      "step 9300, training accuracy 0.9400\n",
      "step 9400, training accuracy 0.9800\n",
      "step 9500, training accuracy 0.9000\n",
      "step 9600, training accuracy 1.0000\n",
      "step 9700, training accuracy 0.9600\n",
      "step 9800, training accuracy 0.9000\n",
      "step 9900, training accuracy 0.9600\n",
      "step 10000, training accuracy 0.9200\n",
      "step 10100, training accuracy 0.9400\n",
      "step 10200, training accuracy 0.9200\n",
      "step 10300, training accuracy 0.9000\n",
      "step 10400, training accuracy 0.9600\n",
      "step 10500, training accuracy 0.9800\n",
      "step 10600, training accuracy 0.9800\n",
      "step 10700, training accuracy 0.9800\n",
      "step 10800, training accuracy 0.9000\n",
      "step 10900, training accuracy 0.9000\n",
      "step 11000, training accuracy 0.9000\n",
      "step 11100, training accuracy 0.9800\n",
      "step 11200, training accuracy 0.8800\n",
      "step 11300, training accuracy 0.9600\n",
      "step 11400, training accuracy 0.8800\n",
      "step 11500, training accuracy 1.0000\n",
      "step 11600, training accuracy 0.9600\n",
      "step 11700, training accuracy 0.9600\n",
      "step 11800, training accuracy 0.9200\n",
      "step 11900, training accuracy 0.9800\n",
      "step 12000, training accuracy 0.9200\n",
      "step 12100, training accuracy 0.9600\n",
      "step 12200, training accuracy 0.8600\n",
      "step 12300, training accuracy 1.0000\n",
      "step 12400, training accuracy 0.9400\n",
      "step 12500, training accuracy 0.9600\n",
      "step 12600, training accuracy 0.9600\n",
      "step 12700, training accuracy 1.0000\n",
      "step 12800, training accuracy 0.9400\n",
      "step 12900, training accuracy 1.0000\n",
      "step 13000, training accuracy 0.9400\n",
      "step 13100, training accuracy 0.9600\n",
      "step 13200, training accuracy 0.9600\n",
      "step 13300, training accuracy 1.0000\n",
      "step 13400, training accuracy 0.9800\n",
      "step 13500, training accuracy 0.9400\n",
      "step 13600, training accuracy 0.9600\n",
      "step 13700, training accuracy 0.9200\n",
      "step 13800, training accuracy 0.9600\n",
      "step 13900, training accuracy 0.9000\n",
      "step 14000, training accuracy 0.9600\n",
      "step 14100, training accuracy 0.9400\n",
      "step 14200, training accuracy 0.9200\n",
      "step 14300, training accuracy 0.9200\n",
      "step 14400, training accuracy 0.9400\n",
      "step 14500, training accuracy 0.9400\n",
      "step 14600, training accuracy 0.9800\n",
      "step 14700, training accuracy 0.9600\n",
      "step 14800, training accuracy 0.9000\n",
      "step 14900, training accuracy 0.9800\n",
      "step 15000, training accuracy 0.9800\n",
      "step 15100, training accuracy 0.9800\n",
      "step 15200, training accuracy 0.9600\n",
      "step 15300, training accuracy 1.0000\n",
      "step 15400, training accuracy 0.9400\n",
      "step 15500, training accuracy 0.9800\n",
      "step 15600, training accuracy 0.9800\n",
      "step 15700, training accuracy 0.9200\n",
      "step 15800, training accuracy 0.9400\n",
      "step 15900, training accuracy 0.9600\n",
      "step 16000, training accuracy 1.0000\n",
      "step 16100, training accuracy 1.0000\n",
      "step 16200, training accuracy 0.9400\n",
      "step 16300, training accuracy 0.9800\n",
      "step 16400, training accuracy 0.9800\n",
      "step 16500, training accuracy 0.9800\n",
      "step 16600, training accuracy 0.9400\n",
      "step 16700, training accuracy 0.9600\n",
      "step 16800, training accuracy 0.9600\n",
      "step 16900, training accuracy 1.0000\n",
      "step 17000, training accuracy 0.9600\n",
      "step 17100, training accuracy 0.9800\n",
      "step 17200, training accuracy 0.9800\n",
      "step 17300, training accuracy 0.9800\n",
      "step 17400, training accuracy 0.9600\n",
      "step 17500, training accuracy 0.9800\n",
      "step 17600, training accuracy 0.9600\n",
      "step 17700, training accuracy 0.9200\n",
      "step 17800, training accuracy 0.9800\n",
      "step 17900, training accuracy 1.0000\n",
      "step 18000, training accuracy 0.9800\n",
      "step 18100, training accuracy 0.9600\n",
      "step 18200, training accuracy 0.9800\n",
      "step 18300, training accuracy 1.0000\n",
      "step 18400, training accuracy 0.9600\n",
      "step 18500, training accuracy 0.9600\n",
      "step 18600, training accuracy 0.9600\n",
      "step 18700, training accuracy 0.9600\n",
      "step 18800, training accuracy 0.9800\n",
      "step 18900, training accuracy 1.0000\n",
      "step 19000, training accuracy 0.9800\n",
      "step 19100, training accuracy 0.9400\n",
      "step 19200, training accuracy 0.9200\n",
      "step 19300, training accuracy 1.0000\n",
      "step 19400, training accuracy 0.9800\n",
      "step 19500, training accuracy 1.0000\n",
      "step 19600, training accuracy 0.9600\n",
      "step 19700, training accuracy 0.9600\n",
      "step 19800, training accuracy 0.9800\n",
      "step 19900, training accuracy 1.0000\n",
      "test accuracy 0.9550\n"
     ]
    }
   ],
   "source": [
    "with tf.Session() as sess:\n",
    "    sess.run(tf.global_variables_initializer())\n",
    "    for i in range(20000):\n",
    "        batch = mnist.train.next_batch(50)\n",
    "        images = np.reshape(batch[0], [-1, 28, 28, 1])\n",
    "        if i % 100 == 0:\n",
    "            train_accuracy = sess.run(accuracy, feed_dict={x: images, y: batch[1]})\n",
    "            print('step {}, training accuracy {:.4f}'.format(i, train_accuracy))\n",
    "        sess.run(train_step, feed_dict={x: images, y: batch[1],})\n",
    "    \n",
    "    test_images = np.reshape(mnist.test.images, [-1, 28, 28, 1])\n",
    "    test_accuracy = sess.run(accuracy, feed_dict={x: test_images, y: mnist.test.labels})\n",
    "    print('test accuracy {:.4f}'.format(test_accuracy))"
   ]
  }
 ],
 "metadata": {
  "kernelspec": {
   "display_name": "Python 3",
   "language": "python",
   "name": "python3"
  },
  "language_info": {
   "codemirror_mode": {
    "name": "ipython",
    "version": 3
   },
   "file_extension": ".py",
   "mimetype": "text/x-python",
   "name": "python",
   "nbconvert_exporter": "python",
   "pygments_lexer": "ipython3",
   "version": "3.6.2"
  }
 },
 "nbformat": 4,
 "nbformat_minor": 2
}
