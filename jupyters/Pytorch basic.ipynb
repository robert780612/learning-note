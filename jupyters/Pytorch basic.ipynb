{
 "cells": [
  {
   "cell_type": "markdown",
   "metadata": {},
   "source": [
    "# Pytorch basic "
   ]
  },
  {
   "cell_type": "code",
   "execution_count": 1,
   "metadata": {},
   "outputs": [
    {
     "data": {
      "text/plain": [
       "'0.4.0'"
      ]
     },
     "execution_count": 1,
     "metadata": {},
     "output_type": "execute_result"
    }
   ],
   "source": [
    "import numpy as np\n",
    "import torch as t\n",
    "t.__version__"
   ]
  },
  {
   "cell_type": "markdown",
   "metadata": {},
   "source": [
    "## Create tensor"
   ]
  },
  {
   "cell_type": "code",
   "execution_count": 2,
   "metadata": {},
   "outputs": [
    {
     "name": "stdout",
     "output_type": "stream",
     "text": [
      "tensor([[ 4.6117e+18,  8.0705e+18,  8.0000e+00],\n",
      "        [ 0.0000e+00,  0.0000e+00,  0.0000e+00],\n",
      "        [ 0.0000e+00,  0.0000e+00,  0.0000e+00],\n",
      "        [ 0.0000e+00,  0.0000e+00,  0.0000e+00],\n",
      "        [ 0.0000e+00,  0.0000e+00,  0.0000e+00]])\n"
     ]
    }
   ],
   "source": [
    "x1 = t.empty(5,3, dtype=t.long)\n",
    "print(x1) # empty tensor"
   ]
  },
  {
   "cell_type": "code",
   "execution_count": 3,
   "metadata": {},
   "outputs": [
    {
     "name": "stdout",
     "output_type": "stream",
     "text": [
      "tensor([[ 1.,  1.,  1.],\n",
      "        [ 1.,  1.,  1.],\n",
      "        [ 1.,  1.,  1.],\n",
      "        [ 1.,  1.,  1.],\n",
      "        [ 1.,  1.,  1.]])\n"
     ]
    }
   ],
   "source": [
    "x2 = t.ones(5,3)\n",
    "print(x2)"
   ]
  },
  {
   "cell_type": "code",
   "execution_count": 4,
   "metadata": {},
   "outputs": [
    {
     "name": "stdout",
     "output_type": "stream",
     "text": [
      "tensor([[ 0.,  0.,  0.],\n",
      "        [ 0.,  0.,  0.],\n",
      "        [ 0.,  0.,  0.],\n",
      "        [ 0.,  0.,  0.],\n",
      "        [ 0.,  0.,  0.]])\n"
     ]
    }
   ],
   "source": [
    "x3 = t.zeros(5,3)\n",
    "print(x3)"
   ]
  },
  {
   "cell_type": "code",
   "execution_count": 5,
   "metadata": {},
   "outputs": [
    {
     "name": "stdout",
     "output_type": "stream",
     "text": [
      "tensor([[ 0.9124,  0.7245,  0.4623],\n",
      "        [ 0.5589,  0.1964,  0.4671],\n",
      "        [ 0.2263,  0.9846,  0.6549],\n",
      "        [ 0.5780,  0.2799,  0.8824],\n",
      "        [ 0.0240,  0.2374,  0.5662]])\n"
     ]
    }
   ],
   "source": [
    "x4 = t.rand(5, 3)\n",
    "print(x4) # a uniform distribution on the interval [0,1)"
   ]
  },
  {
   "cell_type": "markdown",
   "metadata": {},
   "source": [
    "Construct tensor from list"
   ]
  },
  {
   "cell_type": "code",
   "execution_count": 6,
   "metadata": {},
   "outputs": [
    {
     "name": "stdout",
     "output_type": "stream",
     "text": [
      "tensor([[ 5.5000,  3.0000],\n",
      "        [ 3.0000,  0.0000]])\n"
     ]
    }
   ],
   "source": [
    "x5 = t.tensor([[5.5, 3], [3, 0]])\n",
    "print(x5)"
   ]
  },
  {
   "cell_type": "markdown",
   "metadata": {},
   "source": [
    "Construct tensor from numpy array"
   ]
  },
  {
   "cell_type": "code",
   "execution_count": 7,
   "metadata": {},
   "outputs": [
    {
     "name": "stdout",
     "output_type": "stream",
     "text": [
      "tensor([[ 5.5000,  5.0000],\n",
      "        [ 3.0000,  0.0000]], dtype=torch.float64)\n"
     ]
    }
   ],
   "source": [
    "arr = np.array([[5.5, 5], [3, 0]])\n",
    "x6 = t.tensor(arr)\n",
    "print(x6)"
   ]
  },
  {
   "cell_type": "markdown",
   "metadata": {},
   "source": [
    "## Data type"
   ]
  },
  {
   "cell_type": "markdown",
   "metadata": {},
   "source": [
    "Torch defines 8 different tensor types\n",
    "\n",
    "https://pytorch.org/docs/stable/tensors.html#torch-tensor"
   ]
  },
  {
   "cell_type": "markdown",
   "metadata": {},
   "source": [
    "Default data type are \n",
    "- float32 & int64 (from python list)\n",
    "- float64 & int64 (from numpy ndarray)\n",
    "\n",
    "Data type list\n",
    "- t.float32 = t.float\n",
    "- t.float64 = t.double\n",
    "- t.float16 = t.halt\n",
    "- t.uint8\n",
    "- t.int8\n",
    "- t.int16 = t.short\n",
    "- t.int32 = t.int\n",
    "- t.int64 = t.long"
   ]
  },
  {
   "cell_type": "markdown",
   "metadata": {},
   "source": [
    "### From python list (int64 & float32)"
   ]
  },
  {
   "cell_type": "code",
   "execution_count": 8,
   "metadata": {},
   "outputs": [
    {
     "name": "stdout",
     "output_type": "stream",
     "text": [
      "torch.int64\n"
     ]
    }
   ],
   "source": [
    "x = t.tensor([1, 2, 3, 4])\n",
    "print(x.dtype) # default int64 (long)"
   ]
  },
  {
   "cell_type": "code",
   "execution_count": 9,
   "metadata": {},
   "outputs": [
    {
     "name": "stdout",
     "output_type": "stream",
     "text": [
      "torch.float32\n"
     ]
    }
   ],
   "source": [
    "y = t.tensor([1.0, 2, 3, 4])\n",
    "print(y.dtype) # default float32 (float)"
   ]
  },
  {
   "cell_type": "markdown",
   "metadata": {},
   "source": [
    "### From numpy array (int64 & float64)"
   ]
  },
  {
   "cell_type": "code",
   "execution_count": 10,
   "metadata": {},
   "outputs": [
    {
     "name": "stdout",
     "output_type": "stream",
     "text": [
      "torch.int64\n"
     ]
    }
   ],
   "source": [
    "x = t.tensor(np.array([[1,2], [3,4]]))\n",
    "print(x.dtype)"
   ]
  },
  {
   "cell_type": "code",
   "execution_count": 11,
   "metadata": {},
   "outputs": [
    {
     "name": "stdout",
     "output_type": "stream",
     "text": [
      "torch.float64\n"
     ]
    }
   ],
   "source": [
    "y = t.tensor(np.array([[1.0,2], [3,4]]))\n",
    "print(y.dtype)"
   ]
  },
  {
   "cell_type": "markdown",
   "metadata": {},
   "source": [
    "### Specific dtype"
   ]
  },
  {
   "cell_type": "code",
   "execution_count": 12,
   "metadata": {},
   "outputs": [
    {
     "name": "stdout",
     "output_type": "stream",
     "text": [
      "torch.float32\n"
     ]
    }
   ],
   "source": [
    "z = t.tensor([1, 2, 3, 4], dtype=t.float)\n",
    "print(z.dtype)"
   ]
  },
  {
   "cell_type": "code",
   "execution_count": 13,
   "metadata": {},
   "outputs": [
    {
     "name": "stdout",
     "output_type": "stream",
     "text": [
      "torch.float64\n"
     ]
    }
   ],
   "source": [
    "z = t.tensor([1, 2, 3, 4], dtype=t.double)\n",
    "print(z.dtype)"
   ]
  },
  {
   "cell_type": "code",
   "execution_count": 14,
   "metadata": {},
   "outputs": [
    {
     "name": "stdout",
     "output_type": "stream",
     "text": [
      "torch.float16\n"
     ]
    }
   ],
   "source": [
    "z = t.tensor([1, 2, 3, 4], dtype=t.half)\n",
    "print(z.dtype)"
   ]
  },
  {
   "cell_type": "code",
   "execution_count": 15,
   "metadata": {},
   "outputs": [
    {
     "name": "stdout",
     "output_type": "stream",
     "text": [
      "torch.uint8\n"
     ]
    }
   ],
   "source": [
    "z = t.tensor([1, 2, 3, 4], dtype=t.uint8)\n",
    "print(z.dtype)"
   ]
  },
  {
   "cell_type": "code",
   "execution_count": 16,
   "metadata": {},
   "outputs": [
    {
     "name": "stdout",
     "output_type": "stream",
     "text": [
      "torch.int8\n"
     ]
    }
   ],
   "source": [
    "z = t.tensor([1, 2, 3, 4], dtype=t.int8)\n",
    "print(z.dtype)"
   ]
  },
  {
   "cell_type": "code",
   "execution_count": 17,
   "metadata": {},
   "outputs": [
    {
     "name": "stdout",
     "output_type": "stream",
     "text": [
      "torch.int16\n"
     ]
    }
   ],
   "source": [
    "z = t.tensor([1, 2, 3, 4], dtype=t.short)\n",
    "print(z.dtype)"
   ]
  },
  {
   "cell_type": "code",
   "execution_count": 18,
   "metadata": {},
   "outputs": [
    {
     "name": "stdout",
     "output_type": "stream",
     "text": [
      "torch.int32\n"
     ]
    }
   ],
   "source": [
    "z = t.tensor([1, 2, 3, 4], dtype=t.int)\n",
    "print(z.dtype)"
   ]
  },
  {
   "cell_type": "code",
   "execution_count": 19,
   "metadata": {},
   "outputs": [
    {
     "name": "stdout",
     "output_type": "stream",
     "text": [
      "torch.int64\n"
     ]
    }
   ],
   "source": [
    "z = t.tensor([1, 2, 3, 4], dtype=t.long)\n",
    "print(z.dtype)"
   ]
  },
  {
   "cell_type": "markdown",
   "metadata": {},
   "source": [
    "### Cast type "
   ]
  },
  {
   "cell_type": "markdown",
   "metadata": {},
   "source": [
    "* tensor.to(torch.dtype)\n",
    "* tensor cast method\n",
    "    1. tensor.double()\n",
    "    2. tensor.float()\n",
    "    3. tensor.half()\n",
    "    4. tensor.long()\n",
    "    5. tensor.int()\n",
    "    6. tensor.short()\n",
    "    7. tensor.char()\n",
    "    8. tensor.byte()"
   ]
  },
  {
   "cell_type": "code",
   "execution_count": 20,
   "metadata": {},
   "outputs": [
    {
     "name": "stdout",
     "output_type": "stream",
     "text": [
      "torch.float32\n"
     ]
    }
   ],
   "source": [
    "z = t.tensor([1,2,3], dtype=t.float)\n",
    "print(z.dtype)"
   ]
  },
  {
   "cell_type": "code",
   "execution_count": 21,
   "metadata": {},
   "outputs": [
    {
     "name": "stdout",
     "output_type": "stream",
     "text": [
      "tensor([ 1.,  2.,  3.], dtype=torch.float64)\n",
      "tensor([ 1.,  2.,  3.], dtype=torch.float64)\n"
     ]
    }
   ],
   "source": [
    "print(z.to(t.float64))\n",
    "print(z.double())"
   ]
  },
  {
   "cell_type": "code",
   "execution_count": 22,
   "metadata": {},
   "outputs": [
    {
     "name": "stdout",
     "output_type": "stream",
     "text": [
      "tensor([ 1.,  2.,  3.])\n",
      "tensor([ 1.,  2.,  3.])\n"
     ]
    }
   ],
   "source": [
    "print(z.to(t.float32))\n",
    "print(z.float())"
   ]
  },
  {
   "cell_type": "code",
   "execution_count": 23,
   "metadata": {},
   "outputs": [
    {
     "name": "stdout",
     "output_type": "stream",
     "text": [
      "tensor([ 1.,  2.,  3.], dtype=torch.float16)\n",
      "tensor([ 1.,  2.,  3.], dtype=torch.float16)\n"
     ]
    }
   ],
   "source": [
    "print(z.to(t.float16))\n",
    "print(z.half())"
   ]
  },
  {
   "cell_type": "code",
   "execution_count": 24,
   "metadata": {},
   "outputs": [
    {
     "name": "stdout",
     "output_type": "stream",
     "text": [
      "tensor([ 1,  2,  3])\n",
      "tensor([ 1,  2,  3])\n"
     ]
    }
   ],
   "source": [
    "print(z.to(t.int64))\n",
    "print(z.long())"
   ]
  },
  {
   "cell_type": "code",
   "execution_count": 25,
   "metadata": {},
   "outputs": [
    {
     "name": "stdout",
     "output_type": "stream",
     "text": [
      "tensor([ 1,  2,  3], dtype=torch.int32)\n",
      "tensor([ 1,  2,  3], dtype=torch.int32)\n"
     ]
    }
   ],
   "source": [
    "print(z.to(t.int32))\n",
    "print(z.int())"
   ]
  },
  {
   "cell_type": "code",
   "execution_count": 26,
   "metadata": {},
   "outputs": [
    {
     "name": "stdout",
     "output_type": "stream",
     "text": [
      "tensor([ 1,  2,  3], dtype=torch.int16)\n",
      "tensor([ 1,  2,  3], dtype=torch.int16)\n"
     ]
    }
   ],
   "source": [
    "print(z.to(t.int16))\n",
    "print(z.short())"
   ]
  },
  {
   "cell_type": "code",
   "execution_count": 27,
   "metadata": {},
   "outputs": [
    {
     "name": "stdout",
     "output_type": "stream",
     "text": [
      "tensor([ 1,  2,  3], dtype=torch.int8)\n",
      "tensor([ 1,  2,  3], dtype=torch.int8)\n"
     ]
    }
   ],
   "source": [
    "print(z.to(t.int8))\n",
    "print(z.char())"
   ]
  },
  {
   "cell_type": "code",
   "execution_count": 28,
   "metadata": {},
   "outputs": [
    {
     "name": "stdout",
     "output_type": "stream",
     "text": [
      "tensor([ 1,  2,  3], dtype=torch.uint8)\n",
      "tensor([ 1,  2,  3], dtype=torch.uint8)\n"
     ]
    }
   ],
   "source": [
    "print(z.to(t.uint8))\n",
    "print(z.byte())"
   ]
  },
  {
   "cell_type": "markdown",
   "metadata": {},
   "source": [
    "## Operations"
   ]
  },
  {
   "cell_type": "markdown",
   "metadata": {},
   "source": [
    "### Add"
   ]
  },
  {
   "cell_type": "code",
   "execution_count": 29,
   "metadata": {},
   "outputs": [],
   "source": [
    "x = t.tensor([[5.0, 3], [1, 0]], dtype=t.float)\n",
    "y = t.tensor([[1.0, 0], [2, 4]], dtype=t.float)"
   ]
  },
  {
   "cell_type": "code",
   "execution_count": 30,
   "metadata": {},
   "outputs": [
    {
     "name": "stdout",
     "output_type": "stream",
     "text": [
      "tensor([[ 6.,  3.],\n",
      "        [ 3.,  4.]])\n"
     ]
    }
   ],
   "source": [
    "a1 = x+y\n",
    "print(a1)"
   ]
  },
  {
   "cell_type": "code",
   "execution_count": 31,
   "metadata": {},
   "outputs": [
    {
     "name": "stdout",
     "output_type": "stream",
     "text": [
      "tensor([[ 6.,  3.],\n",
      "        [ 3.,  4.]])\n"
     ]
    }
   ],
   "source": [
    "a2 = t.add(x, y)\n",
    "print(a2)"
   ]
  },
  {
   "cell_type": "code",
   "execution_count": 32,
   "metadata": {},
   "outputs": [
    {
     "name": "stdout",
     "output_type": "stream",
     "text": [
      "tensor([[ 6.,  3.],\n",
      "        [ 3.,  4.]])\n"
     ]
    }
   ],
   "source": [
    "a3 = x.add(y)\n",
    "print(a3)"
   ]
  },
  {
   "cell_type": "code",
   "execution_count": 33,
   "metadata": {},
   "outputs": [
    {
     "name": "stdout",
     "output_type": "stream",
     "text": [
      "tensor([[ 6.,  3.],\n",
      "        [ 3.,  4.]])\n"
     ]
    }
   ],
   "source": [
    "a4 = t.empty(2, 2)\n",
    "t.add(x, y, out=a4)\n",
    "print(a4)"
   ]
  },
  {
   "cell_type": "code",
   "execution_count": 34,
   "metadata": {},
   "outputs": [
    {
     "name": "stdout",
     "output_type": "stream",
     "text": [
      "torch.float32\n"
     ]
    }
   ],
   "source": [
    "print(x.dtype)"
   ]
  },
  {
   "cell_type": "markdown",
   "metadata": {},
   "source": [
    "Inplace add \"tensor.add_(tensor2)\""
   ]
  },
  {
   "cell_type": "code",
   "execution_count": 35,
   "metadata": {},
   "outputs": [
    {
     "name": "stdout",
     "output_type": "stream",
     "text": [
      "tensor([[ 6.,  3.],\n",
      "        [ 3.,  4.]])\n",
      "tensor([[ 6.,  3.],\n",
      "        [ 3.,  4.]])\n"
     ]
    }
   ],
   "source": [
    "a5 = x.add_(y)\n",
    "print(a5)\n",
    "print(x) # change the value of x"
   ]
  },
  {
   "cell_type": "markdown",
   "metadata": {},
   "source": [
    "## Numpy bridge"
   ]
  },
  {
   "cell_type": "code",
   "execution_count": 36,
   "metadata": {},
   "outputs": [
    {
     "name": "stdout",
     "output_type": "stream",
     "text": [
      "tensor([ 1.,  1.,  1.,  1.,  1.]) <class 'torch.Tensor'>\n"
     ]
    }
   ],
   "source": [
    "a = t.ones(5)\n",
    "print(a, type(a))"
   ]
  },
  {
   "cell_type": "code",
   "execution_count": 37,
   "metadata": {},
   "outputs": [
    {
     "name": "stdout",
     "output_type": "stream",
     "text": [
      "[1. 1. 1. 1. 1.] <class 'numpy.ndarray'>\n"
     ]
    }
   ],
   "source": [
    "b = a.numpy()\n",
    "print(b, type(b))"
   ]
  },
  {
   "cell_type": "markdown",
   "metadata": {},
   "source": [
    "Changing \"a\" will change \"b\". They share the same memory locations.\n",
    "\n",
    "Only works for **in-place** operations."
   ]
  },
  {
   "cell_type": "code",
   "execution_count": 38,
   "metadata": {},
   "outputs": [
    {
     "name": "stdout",
     "output_type": "stream",
     "text": [
      "tensor([ 2.,  2.,  2.,  2.,  2.])\n",
      "[2. 2. 2. 2. 2.]\n"
     ]
    }
   ],
   "source": [
    "a = t.ones(5)\n",
    "b = a.numpy()\n",
    "a.add_(1) # torch in-place operation\n",
    "print(a)\n",
    "print(b)"
   ]
  },
  {
   "cell_type": "code",
   "execution_count": 39,
   "metadata": {},
   "outputs": [
    {
     "name": "stdout",
     "output_type": "stream",
     "text": [
      "[2. 2. 2. 2. 2.]\n",
      "tensor([ 2.,  2.,  2.,  2.,  2.], dtype=torch.float64)\n"
     ]
    }
   ],
   "source": [
    "a = np.ones(5)\n",
    "b = t.from_numpy(a) # share the same memory location\n",
    "np.add(a, 1, out=a) # numpy inplace operation\n",
    "print(a)\n",
    "print(b)"
   ]
  },
  {
   "cell_type": "code",
   "execution_count": 40,
   "metadata": {},
   "outputs": [
    {
     "name": "stdout",
     "output_type": "stream",
     "text": [
      "[2. 1. 1. 1. 1.]\n",
      "tensor([ 2.,  1.,  1.,  1.,  1.], dtype=torch.float64)\n"
     ]
    }
   ],
   "source": [
    "a = np.ones(5)\n",
    "b = t.from_numpy(a)\n",
    "a[0] += 1 # inplace operation\n",
    "print(a)\n",
    "print(b)"
   ]
  },
  {
   "cell_type": "markdown",
   "metadata": {},
   "source": [
    "No effect on the torch tensor, because this is not an in-place operation."
   ]
  },
  {
   "cell_type": "code",
   "execution_count": 41,
   "metadata": {},
   "outputs": [
    {
     "name": "stdout",
     "output_type": "stream",
     "text": [
      "[2. 2. 2. 2. 2.]\n",
      "tensor([ 1.,  1.,  1.,  1.,  1.], dtype=torch.float64)\n"
     ]
    }
   ],
   "source": [
    "a = np.ones(5)\n",
    "b = t.from_numpy(a)\n",
    "a = np.add(a, 1) # numpy inplace operation\n",
    "print(a)\n",
    "print(b)"
   ]
  },
  {
   "cell_type": "markdown",
   "metadata": {},
   "source": [
    "## Torch autograd"
   ]
  },
  {
   "cell_type": "markdown",
   "metadata": {},
   "source": [
    "### Default: not require gradient"
   ]
  },
  {
   "cell_type": "code",
   "execution_count": 42,
   "metadata": {},
   "outputs": [
    {
     "name": "stdout",
     "output_type": "stream",
     "text": [
      "False\n"
     ]
    }
   ],
   "source": [
    "x = t.tensor([1,2,3])\n",
    "print(x.requires_grad)"
   ]
  },
  {
   "cell_type": "code",
   "execution_count": 43,
   "metadata": {},
   "outputs": [
    {
     "name": "stdout",
     "output_type": "stream",
     "text": [
      "False\n"
     ]
    }
   ],
   "source": [
    "y = x+3\n",
    "print(y.requires_grad)"
   ]
  },
  {
   "cell_type": "markdown",
   "metadata": {},
   "source": [
    "### Calculate gradient (backward)"
   ]
  },
  {
   "cell_type": "markdown",
   "metadata": {},
   "source": [
    "#### Example1"
   ]
  },
  {
   "cell_type": "code",
   "execution_count": 44,
   "metadata": {},
   "outputs": [
    {
     "name": "stdout",
     "output_type": "stream",
     "text": [
      "tensor([[ 1.,  1.],\n",
      "        [ 1.,  1.]])\n",
      "True\n"
     ]
    }
   ],
   "source": [
    "x = t.ones(2, 2, requires_grad=True)\n",
    "print(x)\n",
    "print(x.requires_grad)"
   ]
  },
  {
   "cell_type": "code",
   "execution_count": 45,
   "metadata": {},
   "outputs": [
    {
     "name": "stdout",
     "output_type": "stream",
     "text": [
      "tensor([[ 3.,  3.],\n",
      "        [ 3.,  3.]])\n",
      "True\n"
     ]
    }
   ],
   "source": [
    "y = x+2\n",
    "print(y)\n",
    "print(y.requires_grad)"
   ]
  },
  {
   "cell_type": "code",
   "execution_count": 46,
   "metadata": {},
   "outputs": [],
   "source": [
    "y[0,0].backward()"
   ]
  },
  {
   "cell_type": "code",
   "execution_count": 47,
   "metadata": {},
   "outputs": [
    {
     "data": {
      "text/plain": [
       "tensor([[ 1.,  0.],\n",
       "        [ 0.,  0.]])"
      ]
     },
     "execution_count": 47,
     "metadata": {},
     "output_type": "execute_result"
    }
   ],
   "source": [
    "x.grad"
   ]
  },
  {
   "cell_type": "markdown",
   "metadata": {},
   "source": [
    "#### Example2"
   ]
  },
  {
   "cell_type": "markdown",
   "metadata": {},
   "source": [
    "$y_i = (x_i+2)x_i^2$\n",
    "\n",
    "$z = \\frac{1}{4}\\sum y_i$\n",
    "\n",
    "$\\frac{\\partial z}{\\partial x_i}=\\frac{\\partial z}{\\partial y_i}\\frac{\\partial y_i}{\\partial x_i}$\n",
    "\n",
    "$\\frac{\\partial z}{\\partial x_i}|_{x_i=1}=\\frac{1}{4} \\times 7 = 1.75$"
   ]
  },
  {
   "cell_type": "code",
   "execution_count": 48,
   "metadata": {},
   "outputs": [
    {
     "name": "stdout",
     "output_type": "stream",
     "text": [
      "tensor(3.)\n"
     ]
    }
   ],
   "source": [
    "x = t.ones(2, 2, requires_grad=True)\n",
    "y = (x+2)*x**2\n",
    "z = y.mean()\n",
    "print(z)"
   ]
  },
  {
   "cell_type": "code",
   "execution_count": 49,
   "metadata": {},
   "outputs": [],
   "source": [
    "z.backward()"
   ]
  },
  {
   "cell_type": "code",
   "execution_count": 50,
   "metadata": {},
   "outputs": [
    {
     "data": {
      "text/plain": [
       "tensor([[ 1.7500,  1.7500],\n",
       "        [ 1.7500,  1.7500]])"
      ]
     },
     "execution_count": 50,
     "metadata": {},
     "output_type": "execute_result"
    }
   ],
   "source": [
    "x.grad"
   ]
  },
  {
   "cell_type": "markdown",
   "metadata": {},
   "source": [
    "## Tensor reshape"
   ]
  },
  {
   "cell_type": "code",
   "execution_count": 51,
   "metadata": {},
   "outputs": [
    {
     "name": "stdout",
     "output_type": "stream",
     "text": [
      "tensor([[[ 0.3601,  1.5315, -0.6820],\n",
      "         [ 1.9653,  0.9990,  0.1125]],\n",
      "\n",
      "        [[ 0.0807,  0.2293,  0.2760],\n",
      "         [ 0.7282,  0.0021, -0.6323]],\n",
      "\n",
      "        [[ 0.4375,  0.4844, -1.0338],\n",
      "         [-1.9256,  0.7573,  0.7399]],\n",
      "\n",
      "        [[ 1.5236,  0.3562,  0.3065],\n",
      "         [-1.0073,  0.0381,  0.0779]]])\n"
     ]
    }
   ],
   "source": [
    "a = t.randn(4,2,3)\n",
    "print(a)"
   ]
  },
  {
   "cell_type": "code",
   "execution_count": 52,
   "metadata": {},
   "outputs": [
    {
     "name": "stdout",
     "output_type": "stream",
     "text": [
      "tensor([[ 0.3601,  1.5315, -0.6820,  1.9653,  0.9990,  0.1125],\n",
      "        [ 0.0807,  0.2293,  0.2760,  0.7282,  0.0021, -0.6323],\n",
      "        [ 0.4375,  0.4844, -1.0338, -1.9256,  0.7573,  0.7399],\n",
      "        [ 1.5236,  0.3562,  0.3065, -1.0073,  0.0381,  0.0779]])\n"
     ]
    }
   ],
   "source": [
    "b = a.view(4,6)\n",
    "print(b)"
   ]
  },
  {
   "cell_type": "code",
   "execution_count": 53,
   "metadata": {},
   "outputs": [
    {
     "name": "stdout",
     "output_type": "stream",
     "text": [
      "tensor([[ 0.3601,  1.5315, -0.6820,  1.9653,  0.9990,  0.1125],\n",
      "        [ 0.0807,  0.2293,  0.2760,  0.7282,  0.0021, -0.6323],\n",
      "        [ 0.4375,  0.4844, -1.0338, -1.9256,  0.7573,  0.7399],\n",
      "        [ 1.5236,  0.3562,  0.3065, -1.0073,  0.0381,  0.0779]])\n"
     ]
    }
   ],
   "source": [
    "c = a.reshape(4,6)\n",
    "print(c)"
   ]
  },
  {
   "cell_type": "markdown",
   "metadata": {},
   "source": [
    "## Reduced operation"
   ]
  },
  {
   "cell_type": "markdown",
   "metadata": {},
   "source": [
    "https://pytorch.org/docs/stable/torch.html#reduction-ops\n",
    "\n",
    "1. torch.sum()\n",
    "2. torch.prod()\n",
    "3. torch.mean()\n",
    "4. torch.argmax()\n",
    "5. torch.argmin()\n",
    "6. torch.cumprod()\n",
    "7. torch.cumsum()\n",
    "8. torch.median()\n",
    "9. torch.std()"
   ]
  },
  {
   "cell_type": "code",
   "execution_count": 56,
   "metadata": {},
   "outputs": [
    {
     "name": "stdout",
     "output_type": "stream",
     "text": [
      "tensor([[ 1.5321, -0.3514,  1.6674],\n",
      "        [ 0.1950, -0.8240,  0.8309],\n",
      "        [-0.8030,  1.2325,  0.0537]])\n"
     ]
    }
   ],
   "source": [
    "a = t.randn(3,3)\n",
    "print(a)"
   ]
  },
  {
   "cell_type": "code",
   "execution_count": 61,
   "metadata": {},
   "outputs": [
    {
     "name": "stdout",
     "output_type": "stream",
     "text": [
      "tensor([[ 0.9240,  0.0570,  2.5520]])\n"
     ]
    }
   ],
   "source": [
    "print(t.sum(a, dim=0, keepdim=True))  # 1*3 tensor, calculate column sum"
   ]
  },
  {
   "cell_type": "code",
   "execution_count": 60,
   "metadata": {},
   "outputs": [
    {
     "name": "stdout",
     "output_type": "stream",
     "text": [
      "tensor([[ 2.8480],\n",
      "        [ 0.2019],\n",
      "        [ 0.4831]])\n"
     ]
    }
   ],
   "source": [
    "print(t.sum(a, dim=1, keepdim=True))  # 3*1 tensor, calculate row sum"
   ]
  },
  {
   "cell_type": "markdown",
   "metadata": {},
   "source": [
    "## Tensor concate"
   ]
  },
  {
   "cell_type": "code",
   "execution_count": 62,
   "metadata": {},
   "outputs": [],
   "source": [
    "a = t.randn(3,3)\n",
    "b = t.randn(4,3)"
   ]
  },
  {
   "cell_type": "markdown",
   "metadata": {},
   "source": [
    "t.cat concate two tensor along an **existed** axis."
   ]
  },
  {
   "cell_type": "code",
   "execution_count": 65,
   "metadata": {},
   "outputs": [
    {
     "name": "stdout",
     "output_type": "stream",
     "text": [
      "torch.Size([7, 3])\n"
     ]
    }
   ],
   "source": [
    "c = t.cat([a,b], dim=0)\n",
    "print(c.shape)"
   ]
  },
  {
   "cell_type": "markdown",
   "metadata": {},
   "source": [
    "t.stack concate two tensor along a **new** axis."
   ]
  },
  {
   "cell_type": "code",
   "execution_count": 66,
   "metadata": {},
   "outputs": [
    {
     "name": "stdout",
     "output_type": "stream",
     "text": [
      "torch.Size([3, 3, 2])\n"
     ]
    }
   ],
   "source": [
    "d = t.randn(3,3)\n",
    "e = t.stack([a,d], dim=2)\n",
    "print(e.shape)"
   ]
  },
  {
   "cell_type": "code",
   "execution_count": null,
   "metadata": {},
   "outputs": [],
   "source": []
  }
 ],
 "metadata": {
  "kernelspec": {
   "display_name": "Python 3",
   "language": "python",
   "name": "python3"
  },
  "language_info": {
   "codemirror_mode": {
    "name": "ipython",
    "version": 3
   },
   "file_extension": ".py",
   "mimetype": "text/x-python",
   "name": "python",
   "nbconvert_exporter": "python",
   "pygments_lexer": "ipython3",
   "version": "3.6.2"
  }
 },
 "nbformat": 4,
 "nbformat_minor": 2
}
