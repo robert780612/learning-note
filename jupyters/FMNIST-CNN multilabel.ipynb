{
 "cells": [
  {
   "cell_type": "code",
   "execution_count": 1,
   "metadata": {},
   "outputs": [],
   "source": [
    "import os\n",
    "\n",
    "import numpy as np\n",
    "import matplotlib.pyplot as plt\n",
    "import torch\n",
    "import torch.nn as nn\n",
    "import torch.optim as optim\n",
    "import torch.nn.functional as F\n",
    "import torchvision\n",
    "import torchvision.transforms as transforms"
   ]
  },
  {
   "cell_type": "code",
   "execution_count": 98,
   "metadata": {},
   "outputs": [],
   "source": [
    "data_dir = os.path.join('..', 'data', 'FMNIST')\n",
    "\n",
    "transform = transforms.Compose(\n",
    "    [transforms.ToTensor(),\n",
    "     transforms.Normalize([0.5], [0.5])])\n",
    "trainset = torchvision.datasets.FashionMNIST(root=data_dir, train=True, download=True, transform=transform)\n",
    "trainloader = torch.utils.data.DataLoader(trainset, batch_size=16,\n",
    "                                          shuffle=True, num_workers=2)\n",
    "testset = torchvision.datasets.FashionMNIST(root=data_dir, train=False,\n",
    "                                       download=True, transform=transform)\n",
    "testloader = torch.utils.data.DataLoader(testset, batch_size=4,\n",
    "                                          shuffle=False, num_workers=2)"
   ]
  },
  {
   "cell_type": "code",
   "execution_count": 82,
   "metadata": {},
   "outputs": [
    {
     "name": "stdout",
     "output_type": "stream",
     "text": [
      "[tensor(3)] [tensor(5)] [tensor(1)] [tensor(0)]\n"
     ]
    },
    {
     "data": {
      "image/png": "[encoded data removed]",
      "text/plain": [
       "<Figure size 432x288 with 1 Axes>"
      ]
     },
     "metadata": {},
     "output_type": "display_data"
    },
    {
     "name": "stderr",
     "output_type": "stream",
     "text": [
      "Process Process-48:\n",
      "Process Process-47:\n",
      "Traceback (most recent call last):\n",
      "  File \"/usr/local/Cellar/python3/3.6.2/Frameworks/Python.framework/Versions/3.6/lib/python3.6/multiprocessing/process.py\", line 249, in _bootstrap\n",
      "    self.run()\n",
      "Traceback (most recent call last):\n",
      "  File \"/usr/local/Cellar/python3/3.6.2/Frameworks/Python.framework/Versions/3.6/lib/python3.6/multiprocessing/process.py\", line 93, in run\n",
      "    self._target(*self._args, **self._kwargs)\n",
      "  File \"/usr/local/Cellar/python3/3.6.2/Frameworks/Python.framework/Versions/3.6/lib/python3.6/multiprocessing/process.py\", line 249, in _bootstrap\n",
      "    self.run()\n",
      "  File \"/usr/local/Cellar/python3/3.6.2/Frameworks/Python.framework/Versions/3.6/lib/python3.6/multiprocessing/process.py\", line 93, in run\n",
      "    self._target(*self._args, **self._kwargs)\n",
      "  File \"/usr/local/Cellar/python3/3.6.2/Frameworks/Python.framework/Versions/3.6/lib/python3.6/site-packages/torch/utils/data/dataloader.py\", line 52, in _worker_loop\n",
      "    r = index_queue.get()\n",
      "  File \"/usr/local/Cellar/python3/3.6.2/Frameworks/Python.framework/Versions/3.6/lib/python3.6/multiprocessing/queues.py\", line 342, in get\n",
      "    res = self._reader.recv_bytes()\n",
      "  File \"/usr/local/Cellar/python3/3.6.2/Frameworks/Python.framework/Versions/3.6/lib/python3.6/site-packages/torch/utils/data/dataloader.py\", line 52, in _worker_loop\n",
      "    r = index_queue.get()\n",
      "  File \"/usr/local/Cellar/python3/3.6.2/Frameworks/Python.framework/Versions/3.6/lib/python3.6/multiprocessing/connection.py\", line 216, in recv_bytes\n",
      "    buf = self._recv_bytes(maxlength)\n",
      "  File \"/usr/local/Cellar/python3/3.6.2/Frameworks/Python.framework/Versions/3.6/lib/python3.6/multiprocessing/queues.py\", line 342, in get\n",
      "    res = self._reader.recv_bytes()\n",
      "  File \"/usr/local/Cellar/python3/3.6.2/Frameworks/Python.framework/Versions/3.6/lib/python3.6/multiprocessing/connection.py\", line 216, in recv_bytes\n",
      "    buf = self._recv_bytes(maxlength)\n",
      "  File \"/usr/local/Cellar/python3/3.6.2/Frameworks/Python.framework/Versions/3.6/lib/python3.6/multiprocessing/connection.py\", line 407, in _recv_bytes\n",
      "    buf = self._recv(4)\n",
      "  File \"/usr/local/Cellar/python3/3.6.2/Frameworks/Python.framework/Versions/3.6/lib/python3.6/multiprocessing/connection.py\", line 407, in _recv_bytes\n",
      "    buf = self._recv(4)\n",
      "  File \"/usr/local/Cellar/python3/3.6.2/Frameworks/Python.framework/Versions/3.6/lib/python3.6/multiprocessing/connection.py\", line 379, in _recv\n",
      "    chunk = read(handle, remaining)\n",
      "KeyboardInterrupt\n",
      "  File \"/usr/local/Cellar/python3/3.6.2/Frameworks/Python.framework/Versions/3.6/lib/python3.6/multiprocessing/connection.py\", line 379, in _recv\n",
      "    chunk = read(handle, remaining)\n",
      "KeyboardInterrupt\n"
     ]
    }
   ],
   "source": [
    "def imshow(img):\n",
    "    img = img / 2 + 0.5     # unnormalize\n",
    "    npimg = img.numpy()\n",
    "    plt.imshow(np.transpose(npimg, (1, 2, 0)))\n",
    "\n",
    "\n",
    "# get some random training images\n",
    "dataiter = iter(trainloader)\n",
    "images, labels = next(dataiter)\n",
    "\n",
    "# show images\n",
    "imshow(torchvision.utils.make_grid(images))\n",
    "# print labels\n",
    "print(' '.join('%5s' % [labels[j]] for j in range(4)))"
   ]
  },
  {
   "cell_type": "code",
   "execution_count": 99,
   "metadata": {},
   "outputs": [],
   "source": [
    "class Net(nn.Module):\n",
    "    def __init__(self):\n",
    "        super(Net, self).__init__()\n",
    "        self.conv1 = nn.Conv2d(1, 8, 5)\n",
    "        self.pool = nn.MaxPool2d(2, 2)\n",
    "        self.conv2 = nn.Conv2d(8, 16, 5)\n",
    "        self.fc1 = nn.Linear(16*4*4, 120)\n",
    "        self.fc2 = nn.Linear(120, 36)\n",
    "        self.fc30 = nn.Linear(36, 2)\n",
    "        self.fc31 = nn.Linear(36, 2)\n",
    "        self.fc32 = nn.Linear(36, 2)\n",
    "\n",
    "    def forward(self, x):\n",
    "        x = self.pool(F.relu(self.conv1(x)))\n",
    "        x = self.pool(F.relu(self.conv2(x)))\n",
    "        x = x.view(-1, 16*4*4)\n",
    "        x = F.relu(self.fc1(x))\n",
    "        x = F.relu(self.fc2(x))\n",
    "        x0 = self.fc30(x)\n",
    "        x1 = self.fc31(x)\n",
    "        x2 = self.fc32(x)\n",
    "        return (x0, x1, x2)\n",
    "\n",
    "net = Net()"
   ]
  },
  {
   "cell_type": "code",
   "execution_count": 100,
   "metadata": {},
   "outputs": [
    {
     "name": "stdout",
     "output_type": "stream",
     "text": [
      "14\n",
      "[torch.Size([8, 1, 5, 5]), torch.Size([8]), torch.Size([16, 8, 5, 5]), torch.Size([16]), torch.Size([120, 256]), torch.Size([120]), torch.Size([36, 120]), torch.Size([36]), torch.Size([2, 36]), torch.Size([2]), torch.Size([2, 36]), torch.Size([2]), torch.Size([2, 36]), torch.Size([2])]\n"
     ]
    }
   ],
   "source": [
    "params = list(net.parameters())\n",
    "print(len(params))\n",
    "print([x.size() for x in params])"
   ]
  },
  {
   "cell_type": "code",
   "execution_count": 101,
   "metadata": {},
   "outputs": [
    {
     "data": {
      "text/plain": [
       "Net(\n",
       "  (conv1): Conv2d(1, 8, kernel_size=(5, 5), stride=(1, 1))\n",
       "  (pool): MaxPool2d(kernel_size=2, stride=2, padding=0, dilation=1, ceil_mode=False)\n",
       "  (conv2): Conv2d(8, 16, kernel_size=(5, 5), stride=(1, 1))\n",
       "  (fc1): Linear(in_features=256, out_features=120, bias=True)\n",
       "  (fc2): Linear(in_features=120, out_features=36, bias=True)\n",
       "  (fc30): Linear(in_features=36, out_features=2, bias=True)\n",
       "  (fc31): Linear(in_features=36, out_features=2, bias=True)\n",
       "  (fc32): Linear(in_features=36, out_features=2, bias=True)\n",
       ")"
      ]
     },
     "execution_count": 101,
     "metadata": {},
     "output_type": "execute_result"
    }
   ],
   "source": [
    "net"
   ]
  },
  {
   "cell_type": "code",
   "execution_count": 102,
   "metadata": {},
   "outputs": [],
   "source": [
    "criterion = nn.CrossEntropyLoss()\n",
    "optimizer = optim.SGD(net.parameters(), lr=0.001, momentum=0.9)"
   ]
  },
  {
   "cell_type": "code",
   "execution_count": 103,
   "metadata": {},
   "outputs": [],
   "source": [
    "def onehot(labels):\n",
    "    oh_label = torch.zeros(len(labels), 10, dtype=torch.int64)\n",
    "    for i in range(len(labels)):\n",
    "        oh_label[i,labels[i]] = 1\n",
    "    return oh_label"
   ]
  },
  {
   "cell_type": "code",
   "execution_count": 104,
   "metadata": {},
   "outputs": [
    {
     "name": "stdout",
     "output_type": "stream",
     "text": [
      "tensor([ 8,  9,  9,  9,  6,  3,  3,  8,  0,  6,  1,  0,  1,  2,\n",
      "         3,  1])\n",
      "<class 'torch.Tensor'>\n",
      "False\n",
      "torch.int64\n",
      "tensor([[ 0,  0,  0,  0,  0,  0,  0,  0,  1,  0],\n",
      "        [ 0,  0,  0,  0,  0,  0,  0,  0,  0,  1],\n",
      "        [ 0,  0,  0,  0,  0,  0,  0,  0,  0,  1],\n",
      "        [ 0,  0,  0,  0,  0,  0,  0,  0,  0,  1],\n",
      "        [ 0,  0,  0,  0,  0,  0,  1,  0,  0,  0],\n",
      "        [ 0,  0,  0,  1,  0,  0,  0,  0,  0,  0],\n",
      "        [ 0,  0,  0,  1,  0,  0,  0,  0,  0,  0],\n",
      "        [ 0,  0,  0,  0,  0,  0,  0,  0,  1,  0],\n",
      "        [ 1,  0,  0,  0,  0,  0,  0,  0,  0,  0],\n",
      "        [ 0,  0,  0,  0,  0,  0,  1,  0,  0,  0],\n",
      "        [ 0,  1,  0,  0,  0,  0,  0,  0,  0,  0],\n",
      "        [ 1,  0,  0,  0,  0,  0,  0,  0,  0,  0],\n",
      "        [ 0,  1,  0,  0,  0,  0,  0,  0,  0,  0],\n",
      "        [ 0,  0,  1,  0,  0,  0,  0,  0,  0,  0],\n",
      "        [ 0,  0,  0,  1,  0,  0,  0,  0,  0,  0],\n",
      "        [ 0,  1,  0,  0,  0,  0,  0,  0,  0,  0]])\n",
      "<class 'torch.Tensor'>\n",
      "False\n",
      "torch.int64\n"
     ]
    }
   ],
   "source": [
    "data = iter(trainloader)\n",
    "inputs, labels = next(data)\n",
    "print(labels)\n",
    "print(type(labels))\n",
    "print(labels.requires_grad)\n",
    "print(labels.dtype)\n",
    "print(onehot(labels))\n",
    "print(type(onehot(labels)))\n",
    "print(onehot(labels).requires_grad)\n",
    "print(onehot(labels).dtype)"
   ]
  },
  {
   "cell_type": "code",
   "execution_count": 111,
   "metadata": {},
   "outputs": [
    {
     "name": "stdout",
     "output_type": "stream",
     "text": [
      "[1,   500] loss: 0.230\n",
      "[1,  1000] loss: 0.230\n",
      "[1,  1500] loss: 0.231\n",
      "[1,  2000] loss: 0.200\n",
      "[1,  2500] loss: 0.232\n",
      "[1,  3000] loss: 0.223\n",
      "[1,  3500] loss: 0.218\n",
      "[2,   500] loss: 0.210\n",
      "[2,  1000] loss: 0.201\n",
      "[2,  1500] loss: 0.213\n",
      "[2,  2000] loss: 0.205\n",
      "[2,  2500] loss: 0.211\n",
      "[2,  3000] loss: 0.202\n",
      "[2,  3500] loss: 0.196\n",
      "[3,   500] loss: 0.201\n",
      "[3,  1000] loss: 0.200\n",
      "[3,  1500] loss: 0.189\n",
      "[3,  2000] loss: 0.208\n",
      "[3,  2500] loss: 0.187\n",
      "[3,  3000] loss: 0.178\n",
      "[3,  3500] loss: 0.194\n",
      "[4,   500] loss: 0.181\n",
      "[4,  1000] loss: 0.180\n",
      "[4,  1500] loss: 0.185\n",
      "[4,  2000] loss: 0.186\n",
      "[4,  2500] loss: 0.184\n",
      "[4,  3000] loss: 0.181\n",
      "[4,  3500] loss: 0.188\n",
      "[5,   500] loss: 0.167\n",
      "[5,  1000] loss: 0.182\n",
      "[5,  1500] loss: 0.178\n",
      "[5,  2000] loss: 0.169\n",
      "[5,  2500] loss: 0.175\n",
      "[5,  3000] loss: 0.177\n",
      "[5,  3500] loss: 0.181\n",
      "Finished Training\n"
     ]
    }
   ],
   "source": [
    "for epoch in range(5):  # loop over the dataset multiple times\n",
    "\n",
    "    running_loss = 0.0\n",
    "    for i, data in enumerate(trainloader):\n",
    "        # get the inputs\n",
    "        inputs, labels = data\n",
    "\n",
    "        # zero the parameter gradients\n",
    "        optimizer.zero_grad()\n",
    "\n",
    "        # forward + backward + optimize\n",
    "        outputs = net(inputs)\n",
    "        loss = criterion(outputs[0], onehot(labels)[:,0])+\\\n",
    "               criterion(outputs[1], onehot(labels)[:,1])+\\\n",
    "               criterion(outputs[2], onehot(labels)[:,2])\n",
    "        loss.backward()\n",
    "        optimizer.step()\n",
    "        \n",
    "        # print statistics\n",
    "        running_loss += loss.item()\n",
    "        if i % 500 == 499:    # print every 2000 mini-batches\n",
    "            print('[%d, %5d] loss: %.3f' %\n",
    "                  (epoch + 1, i + 1, running_loss / 500))\n",
    "            running_loss = 0.0\n",
    "\n",
    "print('Finished Training')"
   ]
  },
  {
   "cell_type": "code",
   "execution_count": 112,
   "metadata": {},
   "outputs": [
    {
     "name": "stdout",
     "output_type": "stream",
     "text": [
      "GroundTruth:  tensor(9) tensor(2) tensor(1) tensor(1)\n"
     ]
    },
    {
     "data": {
      "image/png": "[encoded data removed]",
      "text/plain": [
       "<Figure size 432x288 with 1 Axes>"
      ]
     },
     "metadata": {},
     "output_type": "display_data"
    }
   ],
   "source": [
    "dataiter = iter(testloader)\n",
    "images, labels = dataiter.next()\n",
    "\n",
    "# print images\n",
    "imshow(torchvision.utils.make_grid(images))\n",
    "print('GroundTruth: ', ' '.join('%5s' % labels[j] for j in range(4)))"
   ]
  },
  {
   "cell_type": "code",
   "execution_count": 113,
   "metadata": {},
   "outputs": [
    {
     "name": "stdout",
     "output_type": "stream",
     "text": [
      "Predicted:  tensor(0) tensor(0) tensor(0) tensor(0)\n",
      "Predicted:  tensor(0) tensor(0) tensor(1) tensor(1)\n",
      "Predicted:  tensor(0) tensor(1) tensor(0) tensor(0)\n"
     ]
    }
   ],
   "source": [
    "o0, o1, o2 = net(images)\n",
    "_, p0 = torch.max(o0, 1)\n",
    "_, p1 = torch.max(o1, 1)\n",
    "_, p2 = torch.max(o2, 1)\n",
    "\n",
    "print('Predicted: ', ' '.join('%5s' % p0[j] for j in range(4)))\n",
    "print('Predicted: ', ' '.join('%5s' % p1[j] for j in range(4)))\n",
    "print('Predicted: ', ' '.join('%5s' % p2[j] for j in range(4)))"
   ]
  },
  {
   "cell_type": "code",
   "execution_count": 143,
   "metadata": {},
   "outputs": [
    {
     "name": "stdout",
     "output_type": "stream",
     "text": [
      "[[ 811    1   10  178]\n",
      " [   0  977    0   23]\n",
      " [  16    0  844  140]\n",
      " [ 149   20  184 6647]]\n"
     ]
    }
   ],
   "source": [
    "conf_mat = np.zeros([4,4], dtype=np.int32)\n",
    "with torch.no_grad():\n",
    "    for data in testloader:\n",
    "        images, labels = data\n",
    "        o0, o1, o2 = net(images)\n",
    "        _, p0 = torch.max(o0, 1)\n",
    "        _, p1 = torch.max(o1, 1)\n",
    "        _, p2 = torch.max(o2, 1)\n",
    "        for i,l in enumerate(labels):\n",
    "            if l >= 3:\n",
    "                l = 3\n",
    "            p0i = p0[i]\n",
    "            p1i = p1[i]\n",
    "            p2i = p2[i]\n",
    "            if p0i+p1i+p2i==1:\n",
    "                cat = torch.tensor([p0i, p1i, p2i])\n",
    "                _, Midx = torch.max(cat, dim=0)\n",
    "                conf_mat[l,Midx] += 1\n",
    "            else:\n",
    "                conf_mat[l,3] += 1\n",
    "print(conf_mat)"
   ]
  },
  {
   "cell_type": "code",
   "execution_count": 40,
   "metadata": {},
   "outputs": [
    {
     "name": "stdout",
     "output_type": "stream",
     "text": [
      "Accuracy of 0 T-shirt/top : 84 %\n",
      "Accuracy of 1 Trouser : 97 %\n",
      "Accuracy of 2 Pullover : 83 %\n",
      "Accuracy of 3 Dress : 88 %\n",
      "Accuracy of 4 Coat : 79 %\n",
      "Accuracy of 5 Sandal : 96 %\n",
      "Accuracy of 6 Shirt : 73 %\n",
      "Accuracy of 7 Sneaker : 93 %\n",
      "Accuracy of 8 Bag : 96 %\n",
      "Accuracy of 9 Ankle boot : 97 %\n"
     ]
    }
   ],
   "source": [
    "classes = ['0 T-shirt/top','1 Trouser','2 Pullover','3 Dress','4 Coat',\n",
    "           '5 Sandal','6 Shirt','7 Sneaker','8 Bag','9 Ankle boot']\n",
    "\n",
    "class_correct = list(0. for i in range(10))\n",
    "class_total = list(0. for i in range(10))\n",
    "with torch.no_grad():\n",
    "    for data in testloader:\n",
    "        images, labels = data\n",
    "        outputs = net(images)\n",
    "        _, predicted = torch.max(outputs, 1)\n",
    "        c = (predicted == labels).squeeze()\n",
    "        for i in range(4):\n",
    "            label = labels[i]\n",
    "            class_correct[label] += c[i].item()\n",
    "            class_total[label] += 1\n",
    "\n",
    "\n",
    "for i in range(10):\n",
    "    print('Accuracy of %5s : %2d %%' % (\n",
    "        classes[i], 100 * class_correct[i] / class_total[i]))"
   ]
  },
  {
   "cell_type": "code",
   "execution_count": null,
   "metadata": {},
   "outputs": [],
   "source": []
  }
 ],
 "metadata": {
  "kernelspec": {
   "display_name": "Python 3",
   "language": "python",
   "name": "python3"
  },
  "language_info": {
   "codemirror_mode": {
    "name": "ipython",
    "version": 3
   },
   "file_extension": ".py",
   "mimetype": "text/x-python",
   "name": "python",
   "nbconvert_exporter": "python",
   "pygments_lexer": "ipython3",
   "version": "3.6.2"
  }
 },
 "nbformat": 4,
 "nbformat_minor": 2
}
