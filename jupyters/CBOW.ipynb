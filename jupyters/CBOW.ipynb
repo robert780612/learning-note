{
 "cells": [
  {
   "cell_type": "code",
   "execution_count": 1,
   "metadata": {},
   "outputs": [],
   "source": [
    "import torch\n",
    "import torch.nn as nn\n",
    "import torch.nn.functional as F"
   ]
  },
  {
   "cell_type": "code",
   "execution_count": 2,
   "metadata": {},
   "outputs": [
    {
     "name": "stdout",
     "output_type": "stream",
     "text": [
      "[(['When', 'forty'], 'winters'), (['forty', 'winters'], 'shall'), (['winters', 'shall'], 'besiege')]\n"
     ]
    }
   ],
   "source": [
    "CONTEXT_SIZE = 2\n",
    "EMBEDDING_DIM = 10\n",
    "# We will use Shakespeare Sonnet 2\n",
    "test_sentence = \"\"\"When forty winters shall besiege thy brow,\n",
    "And dig deep trenches in thy beauty's field,\n",
    "Thy youth's proud livery so gazed on now,\n",
    "Will be a totter'd weed of small worth held:\n",
    "Then being asked, where all thy beauty lies,\n",
    "Where all the treasure of thy lusty days;\n",
    "To say, within thine own deep sunken eyes,\n",
    "Were an all-eating shame, and thriftless praise.\n",
    "How much more praise deserv'd thy beauty's use,\n",
    "If thou couldst answer 'This fair child of mine\n",
    "Shall sum my count, and make my old excuse,'\n",
    "Proving his beauty by succession thine!\n",
    "This were to be new made when thou art old,\n",
    "And see thy blood warm when thou feel'st it cold.\"\"\".split()\n",
    "# we should tokenize the input, but we will ignore that for now\n",
    "# build a list of tuples.  Each tuple is ([ word_i-2, word_i-1 ], target word)\n",
    "trigrams = [([test_sentence[i], test_sentence[i + 1]], test_sentence[i + 2])\n",
    "            for i in range(len(test_sentence) - 2)]\n",
    "# print the first 3, just so you can see what they look like\n",
    "print(trigrams[:3])\n"
   ]
  },
  {
   "cell_type": "code",
   "execution_count": 6,
   "metadata": {},
   "outputs": [
    {
     "data": {
      "text/plain": [
       "{'now,': 0,\n",
       " 'Where': 1,\n",
       " 'Will': 2,\n",
       " 'held:': 3,\n",
       " 'say,': 4,\n",
       " 'thine': 5,\n",
       " 'forty': 6,\n",
       " 'worth': 7,\n",
       " 'lusty': 8,\n",
       " 'made': 9,\n",
       " 'If': 10,\n",
       " 'be': 11,\n",
       " 'all': 12,\n",
       " 'answer': 13,\n",
       " 'weed': 14,\n",
       " 'own': 15,\n",
       " 'cold.': 16,\n",
       " 'it': 17,\n",
       " 'deep': 18,\n",
       " \"youth's\": 19,\n",
       " 'And': 20,\n",
       " 'so': 21,\n",
       " 'besiege': 22,\n",
       " 'asked,': 23,\n",
       " 'thy': 24,\n",
       " 'couldst': 25,\n",
       " \"feel'st\": 26,\n",
       " 'make': 27,\n",
       " 'This': 28,\n",
       " 'art': 29,\n",
       " 'trenches': 30,\n",
       " 'warm': 31,\n",
       " 'praise.': 32,\n",
       " 'blood': 33,\n",
       " 'when': 34,\n",
       " 'shame,': 35,\n",
       " 'and': 36,\n",
       " 'his': 37,\n",
       " 'gazed': 38,\n",
       " 'an': 39,\n",
       " 'brow,': 40,\n",
       " 'old': 41,\n",
       " 'To': 42,\n",
       " \"beauty's\": 43,\n",
       " 'thriftless': 44,\n",
       " 'livery': 45,\n",
       " 'Proving': 46,\n",
       " 'old,': 47,\n",
       " \"'This\": 48,\n",
       " 'Then': 49,\n",
       " 'winters': 50,\n",
       " 'lies,': 51,\n",
       " 'proud': 52,\n",
       " 'field,': 53,\n",
       " 'How': 54,\n",
       " 'of': 55,\n",
       " 'see': 56,\n",
       " 'more': 57,\n",
       " 'were': 58,\n",
       " 'thou': 59,\n",
       " 'sunken': 60,\n",
       " 'within': 61,\n",
       " 'beauty': 62,\n",
       " 'mine': 63,\n",
       " \"excuse,'\": 64,\n",
       " \"totter'd\": 65,\n",
       " 'fair': 66,\n",
       " 'a': 67,\n",
       " 'Thy': 68,\n",
       " 'count,': 69,\n",
       " 'the': 70,\n",
       " 'on': 71,\n",
       " 'being': 72,\n",
       " 'dig': 73,\n",
       " 'small': 74,\n",
       " 'succession': 75,\n",
       " 'treasure': 76,\n",
       " 'sum': 77,\n",
       " 'Were': 78,\n",
       " 'Shall': 79,\n",
       " 'where': 80,\n",
       " 'eyes,': 81,\n",
       " 'much': 82,\n",
       " \"deserv'd\": 83,\n",
       " 'thine!': 84,\n",
       " 'my': 85,\n",
       " 'shall': 86,\n",
       " 'use,': 87,\n",
       " 'in': 88,\n",
       " 'new': 89,\n",
       " 'days;': 90,\n",
       " 'all-eating': 91,\n",
       " 'to': 92,\n",
       " 'by': 93,\n",
       " 'praise': 94,\n",
       " 'When': 95,\n",
       " 'child': 96}"
      ]
     },
     "execution_count": 6,
     "metadata": {},
     "output_type": "execute_result"
    }
   ],
   "source": [
    "vocab = set(test_sentence)\n",
    "word_to_ix = {x: i for i, x in enumerate(vocab)}\n",
    "word_to_ix"
   ]
  },
  {
   "cell_type": "code",
   "execution_count": null,
   "metadata": {},
   "outputs": [],
   "source": []
  }
 ],
 "metadata": {
  "kernelspec": {
   "display_name": "Python 3",
   "language": "python",
   "name": "python3"
  },
  "language_info": {
   "codemirror_mode": {
    "name": "ipython",
    "version": 3
   },
   "file_extension": ".py",
   "mimetype": "text/x-python",
   "name": "python",
   "nbconvert_exporter": "python",
   "pygments_lexer": "ipython3",
   "version": "3.6.2"
  }
 },
 "nbformat": 4,
 "nbformat_minor": 2
}
