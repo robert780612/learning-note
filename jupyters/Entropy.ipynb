{
 "cells": [
  {
   "cell_type": "markdown",
   "metadata": {},
   "source": [
    "* [Entropy] [1]\n",
    "* [Conditional entropy] [2]\n",
    "* [Mutual information] [3]\n",
    "* [Relative entropy] [4] (KL divergence (Kullback-Leibler))\n",
    "* Cross entropy\n",
    "\n",
    "[1]: #Entropy\n",
    "[2]: #Conditional-entropy\n",
    "[3]: #Mutual-information\n",
    "[4]: #Relative-entropy"
   ]
  },
  {
   "cell_type": "markdown",
   "metadata": {},
   "source": [
    "# Entropy"
   ]
  },
  {
   "cell_type": "markdown",
   "metadata": {},
   "source": [
    "The entropy of a descrete random variable X is \n",
    "\n",
    "$$H(X)=E[-\\log_{2}P(X)]=-\\sum_{i=1}^n P(x_i)\\log_2 P(x_i)$$\n",
    "\n",
    "$P$ is the probability mass function of a random variable X"
   ]
  },
  {
   "cell_type": "markdown",
   "metadata": {},
   "source": [
    "## What does entropy mean?"
   ]
  },
  {
   "cell_type": "code",
   "execution_count": 21,
   "metadata": {},
   "outputs": [],
   "source": [
    "import numpy as np\n",
    "def coin_toss_entropy(coin_prob):\n",
    "    # 0<=coin_prob<=1\n",
    "    f = lambda x: x*np.log2(x)\n",
    "    return -(f(coin_prob)+f(1-coin_prob))"
   ]
  },
  {
   "cell_type": "code",
   "execution_count": 29,
   "metadata": {},
   "outputs": [
    {
     "name": "stdout",
     "output_type": "stream",
     "text": [
      "Max entropy is 1.0 where p=0.5\n"
     ]
    },
    {
     "data": {
      "text/plain": [
       "[<matplotlib.lines.Line2D at 0x10fb215f8>]"
      ]
     },
     "execution_count": 29,
     "metadata": {},
     "output_type": "execute_result"
    },
    {
     "data": {
      "image/png": "[encoded data removed]",
      "text/plain": [
       "<matplotlib.figure.Figure at 0x10f9b20b8>"
      ]
     },
     "metadata": {},
     "output_type": "display_data"
    }
   ],
   "source": [
    "%matplotlib inline\n",
    "import matplotlib.pyplot as plt\n",
    "\n",
    "p = np.linspace(0.01,0.99,99)\n",
    "entropy_p = coin_toss_entropy(p)\n",
    "M = np.amax(entropy_p)\n",
    "index = np.argmax(entropy_p)\n",
    "print('Max entropy is {} where p={}'.format(M, p[index]))\n",
    "plt.plot(p, entropy_p)\n"
   ]
  },
  {
   "cell_type": "markdown",
   "metadata": {},
   "source": [
    "As above, when you toss a fair coin (p=0.5), you get least information (max entropy).\n",
    "Entropy is **how much information you get.** (Zero is max information.)"
   ]
  },
  {
   "cell_type": "markdown",
   "metadata": {},
   "source": [
    "## Why entropy needs log? (additive property)"
   ]
  },
  {
   "cell_type": "markdown",
   "metadata": {},
   "source": [
    "In short, logarithm is to make it growing linearly with system size and \"behaving like information\".\n",
    "\n",
    "The entropy of tossing a fair coin is \n",
    "$$-\\sum_{i=1}^2 \\frac{1}{2} \\log_2 \\frac{1}{2}=1$$\n",
    "\n",
    "Tossing a fair coin **two times** is random choice number from 1 to 4.\n",
    "\n",
    "The entropy of random choicing number 1 to 4 is \n",
    "$$-\\sum_{i=1}^4 \\frac{1}{4} \\log_2 \\frac{1}{4}=2$$\n",
    "\n",
    "just 2 times of tossing a fair coin.\n",
    "\n",
    "[What is the role of the logarithm in Shannon's entropy?] [1] \n",
    "\n",
    "[1]: https://stats.stackexchange.com/questions/87182/what-is-the-role-of-the-logarithm-in-shannons-entropy "
   ]
  },
  {
   "cell_type": "markdown",
   "metadata": {},
   "source": [
    "# Conditional entropy"
   ]
  },
  {
   "cell_type": "markdown",
   "metadata": {},
   "source": [
    "$$\n",
    "\\begin{align}\n",
    "H(X|Y)&=E[-log_2 P(X|Y)] \\\\\n",
    "      &=-\\sum_{i,j} P(x_i, y_j)\\log_2 P(x_i|y_j)\\\\\n",
    "      &=-\\sum_{i,j} P(x_i, y_j)\\log_2 \\frac{P(x_i,y_j)}{P(y_j)} \\\\\n",
    "      &=-\\sum_{i,j} P(x_i, y_j)\\log_2 P(x_i,y_j) + \\sum_{i,j} P(x_i, y_j)\\log_2 P(y_j)\\\\\n",
    "      &=H(X,Y)-H(Y)\n",
    "\\end{align}$$\n",
    "\n",
    "The entropy of X given Y is equal to the joint entropy of X&Y minus the entropy of Y"
   ]
  },
  {
   "cell_type": "markdown",
   "metadata": {},
   "source": [
    "# Mutual information"
   ]
  },
  {
   "cell_type": "markdown",
   "metadata": {},
   "source": [
    "$$I(X,Y)=\\sum_{i,j}P(x_i,y_j)log_2 \\frac{P(x_i,y_j)}{P(x_i)P(y_j)}$$"
   ]
  },
  {
   "cell_type": "markdown",
   "metadata": {},
   "source": [
    "## Property"
   ]
  },
  {
   "cell_type": "markdown",
   "metadata": {},
   "source": [
    "1. Non-negative, i.e. $I(X,Y)\\ge 0$\n",
    "2. Symmetric $I(X,Y)=I(Y,X)$\n",
    "3. $H(X,Y) \\\\\n",
    "    = H(X)-H(X|Y) \\\\\n",
    "    = H(Y)-H(Y|X) \\\\\n",
    "    = H(X)+H(Y)-H(X,Y) \\\\\n",
    "    = H(X,Y)-H(Y|X)-H(X|Y)$"
   ]
  },
  {
   "cell_type": "markdown",
   "metadata": {},
   "source": [
    "##  Example"
   ]
  },
  {
   "cell_type": "markdown",
   "metadata": {},
   "source": [
    "$X$, $Y$ are both bernoulli random variable with success probability $p_x$, $p_y$.\n",
    "$$\n",
    "\\begin{align}\n",
    "I(X,Y)&=P(X=0,Y=0)\\log_2 \\frac{P(X=0,Y=0)}{P(X=0)P(Y=0)}\\\\\n",
    "        &+P(X=1,Y=0)\\log_2 \\frac{P(X=1,Y=0)}{P(X=1)P(Y=0)}\\\\\n",
    "        &+P(X=0,Y=1)\\log_2 \\frac{P(X=0,Y=1)}{P(X=0)P(Y=1)}\\\\\n",
    "        &+P(X=1,Y=1)\\log_2 \\frac{P(X=1,Y=1)}{P(X=1)P(Y=1)}\n",
    "\\end{align}$$\n",
    "\n",
    "* If $P(X=1, Y=1)>P(X=1)P(Y=1)$ (positive correlated), then the first term & forth term are bigger than zero.\n",
    "* If $P(X=1, Y=0)>P(X=1)P(Y=0)$ (negative correlated), then the second term & third term are smaller than zero."
   ]
  },
  {
   "cell_type": "markdown",
   "metadata": {},
   "source": [
    "# Relative entropy (KL divergence)"
   ]
  },
  {
   "cell_type": "markdown",
   "metadata": {},
   "source": [
    "P & Q are two discrete probability distribution\n",
    "$$D_{KL}(P||Q)=-\\sum_i P(i)\\log \\frac{Q(i)}{P(i)}$$"
   ]
  },
  {
   "cell_type": "markdown",
   "metadata": {},
   "source": [
    "# Cross entropy"
   ]
  },
  {
   "cell_type": "markdown",
   "metadata": {},
   "source": [
    "$$H(p,q)=E_p[-\\log q]=H(p)+D_{KL}(p||q)$$"
   ]
  },
  {
   "cell_type": "markdown",
   "metadata": {},
   "source": [
    "Reference\n",
    "* [Wikipedia Entropy] [1] \n",
    "* [What is the role of the logarithm in Shannon's entropy?] [2]\n",
    "* [Kullback–Leibler divergence] [3]\n",
    "\n",
    "[1]: https://en.wikipedia.org/wiki/Mutual_information\n",
    "[2]: https://stats.stackexchange.com/questions/87182/what-is-the-role-of-the-logarithm-in-shannons-entropy\n",
    "[3]: https://en.wikipedia.org/wiki/Kullback–Leibler_divergence"
   ]
  }
 ],
 "metadata": {
  "kernelspec": {
   "display_name": "Python 3",
   "language": "python",
   "name": "python3"
  },
  "language_info": {
   "codemirror_mode": {
    "name": "ipython",
    "version": 3
   },
   "file_extension": ".py",
   "mimetype": "text/x-python",
   "name": "python",
   "nbconvert_exporter": "python",
   "pygments_lexer": "ipython3",
   "version": "3.6.2"
  }
 },
 "nbformat": 4,
 "nbformat_minor": 2
}
