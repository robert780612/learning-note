{
 "cells": [
  {
   "cell_type": "code",
   "execution_count": 30,
   "metadata": {},
   "outputs": [
    {
     "name": "stdout",
     "output_type": "stream",
     "text": [
      "1.14.2\n"
     ]
    }
   ],
   "source": [
    "import numpy as np\n",
    "print(np.__version__)"
   ]
  },
  {
   "cell_type": "markdown",
   "metadata": {},
   "source": [
    "# Joining array summary"
   ]
  },
  {
   "cell_type": "code",
   "execution_count": 31,
   "metadata": {},
   "outputs": [
    {
     "name": "stdout",
     "output_type": "stream",
     "text": [
      "concatenate shape: (6, 3) (axis=0)\n",
      "concatenate shape: (3, 6) (axis=1)\n",
      "stack shape: (2, 3, 3) (axis=0)\n",
      "stack shape: (3, 2, 3) (axis=1)\n",
      "stack shape: (3, 3, 2) (axis=2)\n",
      "append shape: (6, 3) (axis=0)\n",
      "append shape: (3, 6) (axis=1)\n",
      "append shape: (18,) (axis None)\n"
     ]
    }
   ],
   "source": [
    "a = np.zeros([3,3])\n",
    "b = np.ones([3,3])\n",
    "c0 = np.concatenate([a,b], axis=0)\n",
    "c1 = np.concatenate([a,b], axis=1)\n",
    "s0 = np.stack([a,b], axis=0)\n",
    "s1 = np.stack([a,b], axis=1)\n",
    "s2 = np.stack([a,b], axis=2)\n",
    "ap0 = np.append(a,b, axis=0)\n",
    "ap1 = np.append(a,b, axis=1)\n",
    "ap = np.append(a,b)\n",
    "print('concatenate shape: {} (axis=0)'.format(c0.shape))\n",
    "print('concatenate shape: {} (axis=1)'.format(c1.shape))\n",
    "print('stack shape: {} (axis=0)'.format(s0.shape))\n",
    "print('stack shape: {} (axis=1)'.format(s1.shape))\n",
    "print('stack shape: {} (axis=2)'.format(s2.shape))\n",
    "print('append shape: {} (axis=0)'.format(ap0.shape))\n",
    "print('append shape: {} (axis=1)'.format(ap1.shape))\n",
    "print('append shape: {} (axis None)'.format(ap.shape))"
   ]
  },
  {
   "cell_type": "markdown",
   "metadata": {},
   "source": [
    "# Numpy axis \n",
    "## Rank 2 array\n",
    "### The first index is axis 0 (row)"
   ]
  },
  {
   "cell_type": "code",
   "execution_count": 32,
   "metadata": {},
   "outputs": [
    {
     "name": "stdout",
     "output_type": "stream",
     "text": [
      "Array a:\n",
      " [[0 1 2]\n",
      " [3 4 5]\n",
      " [6 7 8]]\n",
      "Index 0 of axis 0: [0 1 2]\n",
      "Index 1 of axis 0: [3 4 5]\n",
      "Index 2 of axis 0: [6 7 8]\n",
      "Sum along axis 0 (row): [ 9 12 15]\n"
     ]
    }
   ],
   "source": [
    "a = np.array(range(0,9)).reshape(3,3)\n",
    "print('Array a:\\n', a)\n",
    "print('Index 0 of axis 0:', a[0])\n",
    "print('Index 1 of axis 0:', a[1])\n",
    "print('Index 2 of axis 0:', a[2])\n",
    "print('Sum along axis 0 (row):', np.sum(a, axis=0))"
   ]
  },
  {
   "cell_type": "markdown",
   "metadata": {},
   "source": [
    "### The second index is axis 1 (column)"
   ]
  },
  {
   "cell_type": "code",
   "execution_count": 33,
   "metadata": {},
   "outputs": [
    {
     "name": "stdout",
     "output_type": "stream",
     "text": [
      "Array a:\n",
      " [[0 1 2]\n",
      " [3 4 5]\n",
      " [6 7 8]]\n",
      "Index 0 of axis 1: [0 3 6]\n",
      "Index 1 of axis 1: [1 4 7]\n",
      "Index 2 of axis 1: [2 5 8]\n",
      "Sum along axis 1 (column): [ 3 12 21]\n"
     ]
    }
   ],
   "source": [
    "a = np.array(range(0,9)).reshape(3,3)\n",
    "print('Array a:\\n', a)\n",
    "print('Index 0 of axis 1:', a[:,0])\n",
    "print('Index 1 of axis 1:', a[:,1])\n",
    "print('Index 2 of axis 1:', a[:,2])\n",
    "print('Sum along axis 1 (column):', np.sum(a, axis=1))"
   ]
  },
  {
   "cell_type": "markdown",
   "metadata": {},
   "source": [
    "## Rank 3 array\n",
    "Rank 3 array's axis definition is very similar to rank 2 array.\n",
    "\n",
    "The most outer square brackets represents axis 0.\n",
    "\n",
    "The most inner square brackets represents axis 2."
   ]
  },
  {
   "cell_type": "code",
   "execution_count": 34,
   "metadata": {},
   "outputs": [
    {
     "name": "stdout",
     "output_type": "stream",
     "text": [
      "[[[0 1]\n",
      "  [2 3]]\n",
      "\n",
      " [[4 5]\n",
      "  [6 7]]]\n"
     ]
    }
   ],
   "source": [
    "b = np.array(range(0,8)).reshape(2,2,2)\n",
    "print(b)"
   ]
  },
  {
   "cell_type": "code",
   "execution_count": 35,
   "metadata": {},
   "outputs": [
    {
     "name": "stdout",
     "output_type": "stream",
     "text": [
      "Index 0 of axis 0:\n",
      " [[0 1]\n",
      " [2 3]]\n",
      "Index 1 of axis 0:\n",
      " [[4 5]\n",
      " [6 7]]\n",
      "Sum along axis 0:\n",
      " [[ 4  6]\n",
      " [ 8 10]]\n"
     ]
    }
   ],
   "source": [
    "print('Index 0 of axis 0:\\n', b[0])\n",
    "print('Index 1 of axis 0:\\n', b[1])\n",
    "print('Sum along axis 0:\\n', np.sum(b, axis=0))"
   ]
  },
  {
   "cell_type": "code",
   "execution_count": 36,
   "metadata": {},
   "outputs": [
    {
     "name": "stdout",
     "output_type": "stream",
     "text": [
      "Index 0 of axis 1:\n",
      " [[0 1]\n",
      " [4 5]]\n",
      "Index 1 of axis 1:\n",
      " [[2 3]\n",
      " [6 7]]\n",
      "Sum along axis 1:\n",
      " [[ 2  4]\n",
      " [10 12]]\n"
     ]
    }
   ],
   "source": [
    "print('Index 0 of axis 1:\\n', b[:,0,:])\n",
    "print('Index 1 of axis 1:\\n', b[:,1,:])\n",
    "print('Sum along axis 1:\\n', np.sum(b, axis=1))"
   ]
  },
  {
   "cell_type": "code",
   "execution_count": 37,
   "metadata": {},
   "outputs": [
    {
     "name": "stdout",
     "output_type": "stream",
     "text": [
      "Index 0 of axis 2:\n",
      " [[0 2]\n",
      " [4 6]]\n",
      "Index 1 of axis 2:\n",
      " [[1 3]\n",
      " [5 7]]\n",
      "Sum along axis 2:\n",
      " [[ 1  5]\n",
      " [ 9 13]]\n"
     ]
    }
   ],
   "source": [
    "print('Index 0 of axis 2:\\n', b[:,:,0])\n",
    "print('Index 1 of axis 2:\\n', b[:,:,1])\n",
    "print('Sum along axis 2:\\n', np.sum(b, axis=2))"
   ]
  },
  {
   "cell_type": "markdown",
   "metadata": {},
   "source": [
    "# np.concatenate\n",
    "a is 3\\*3 array. b is 1\\*3 array.\n",
    "\n",
    "c = np.concatenate([a,b], axis=0) \n",
    "\n",
    "c is 4\\*3 array (3+1)\\*3."
   ]
  },
  {
   "cell_type": "code",
   "execution_count": 38,
   "metadata": {},
   "outputs": [
    {
     "name": "stdout",
     "output_type": "stream",
     "text": [
      "[[0. 0. 0.]\n",
      " [0. 0. 0.]\n",
      " [0. 0. 0.]\n",
      " [1. 1. 1.]]\n"
     ]
    }
   ],
   "source": [
    "a = np.zeros([3,3])\n",
    "b = np.ones([1,3])\n",
    "c = np.concatenate([a,b], axis=0)\n",
    "print(c)"
   ]
  },
  {
   "cell_type": "code",
   "execution_count": 39,
   "metadata": {
    "scrolled": true
   },
   "outputs": [
    {
     "name": "stdout",
     "output_type": "stream",
     "text": [
      "[[0. 0. 0. 1. 1. 1. 1. 1.]\n",
      " [0. 0. 0. 1. 1. 1. 1. 1.]\n",
      " [0. 0. 0. 1. 1. 1. 1. 1.]]\n"
     ]
    }
   ],
   "source": [
    "a = np.zeros([3,3])\n",
    "b = np.ones([3,5])\n",
    "c = np.concatenate([a,b], axis=1)\n",
    "print(c)"
   ]
  },
  {
   "cell_type": "markdown",
   "metadata": {},
   "source": [
    "# np.append\n",
    "If axis is not specified, both arrays and values are flattened before use."
   ]
  },
  {
   "cell_type": "code",
   "execution_count": 40,
   "metadata": {},
   "outputs": [
    {
     "data": {
      "text/plain": [
       "array([1, 2, 3, 4, 5, 6, 7, 8, 9])"
      ]
     },
     "execution_count": 40,
     "metadata": {},
     "output_type": "execute_result"
    }
   ],
   "source": [
    "np.append([1, 2, 3], [[4, 5, 6], [7, 8, 9]])"
   ]
  },
  {
   "cell_type": "code",
   "execution_count": 41,
   "metadata": {},
   "outputs": [
    {
     "name": "stdout",
     "output_type": "stream",
     "text": [
      "[[0. 0. 0.]\n",
      " [0. 0. 0.]\n",
      " [0. 0. 0.]\n",
      " [1. 1. 1.]]\n"
     ]
    }
   ],
   "source": [
    "a = np.zeros([3,3])\n",
    "b = np.ones([1,3])\n",
    "c = np.append(a, b, axis=0)\n",
    "print(c)"
   ]
  },
  {
   "cell_type": "code",
   "execution_count": 42,
   "metadata": {},
   "outputs": [
    {
     "name": "stdout",
     "output_type": "stream",
     "text": [
      "[[0. 0. 0. 1. 1. 1. 1. 1.]\n",
      " [0. 0. 0. 1. 1. 1. 1. 1.]\n",
      " [0. 0. 0. 1. 1. 1. 1. 1.]]\n"
     ]
    }
   ],
   "source": [
    "a = np.zeros([3,3])\n",
    "b = np.ones([3,5])\n",
    "c = np.append(a, b, axis=1)\n",
    "print(c)"
   ]
  },
  {
   "cell_type": "markdown",
   "metadata": {},
   "source": [
    "# np.stack\n",
    "Join a sequence of arrays along a new axis"
   ]
  },
  {
   "cell_type": "code",
   "execution_count": 43,
   "metadata": {},
   "outputs": [
    {
     "name": "stdout",
     "output_type": "stream",
     "text": [
      "[[[0. 0. 0.]\n",
      "  [0. 0. 0.]\n",
      "  [0. 0. 0.]]\n",
      "\n",
      " [[1. 1. 1.]\n",
      "  [1. 1. 1.]\n",
      "  [1. 1. 1.]]]\n"
     ]
    }
   ],
   "source": [
    "a = np.zeros([3,3])\n",
    "b = np.ones([3,3])\n",
    "c = np.stack([a,b], axis=0)\n",
    "print(c)"
   ]
  },
  {
   "cell_type": "code",
   "execution_count": 44,
   "metadata": {},
   "outputs": [
    {
     "name": "stdout",
     "output_type": "stream",
     "text": [
      "[[[0. 0. 0.]\n",
      "  [1. 1. 1.]]\n",
      "\n",
      " [[0. 0. 0.]\n",
      "  [1. 1. 1.]]\n",
      "\n",
      " [[0. 0. 0.]\n",
      "  [1. 1. 1.]]]\n"
     ]
    }
   ],
   "source": [
    "a = np.zeros([3,3])\n",
    "b = np.ones([3,3])\n",
    "c = np.stack([a,b], axis=1)\n",
    "print(c)"
   ]
  },
  {
   "cell_type": "code",
   "execution_count": 45,
   "metadata": {},
   "outputs": [
    {
     "name": "stdout",
     "output_type": "stream",
     "text": [
      "[[[0. 1.]\n",
      "  [0. 1.]\n",
      "  [0. 1.]]\n",
      "\n",
      " [[0. 1.]\n",
      "  [0. 1.]\n",
      "  [0. 1.]]\n",
      "\n",
      " [[0. 1.]\n",
      "  [0. 1.]\n",
      "  [0. 1.]]]\n"
     ]
    }
   ],
   "source": [
    "a = np.zeros([3,3])\n",
    "b = np.ones([3,3])\n",
    "c = np.stack([a,b], axis=2)\n",
    "print(c)"
   ]
  },
  {
   "cell_type": "markdown",
   "metadata": {},
   "source": [
    "[Numpy array manipulation][1]\n",
    "\n",
    "[1]:https://docs.scipy.org/doc/numpy-1.13.0/reference/routines.array-manipulation.html"
   ]
  }
 ],
 "metadata": {
  "kernelspec": {
   "display_name": "Python 3",
   "language": "python",
   "name": "python3"
  },
  "language_info": {
   "codemirror_mode": {
    "name": "ipython",
    "version": 3
   },
   "file_extension": ".py",
   "mimetype": "text/x-python",
   "name": "python",
   "nbconvert_exporter": "python",
   "pygments_lexer": "ipython3",
   "version": "3.6.2"
  }
 },
 "nbformat": 4,
 "nbformat_minor": 2
}
