{
 "cells": [
  {
   "cell_type": "code",
   "execution_count": 1,
   "metadata": {},
   "outputs": [],
   "source": [
    "import torch\n",
    "import torch.nn as nn"
   ]
  },
  {
   "cell_type": "code",
   "execution_count": 4,
   "metadata": {},
   "outputs": [],
   "source": [
    "class FeatureExtrator(nn.Module):\n",
    "    def __init__(self):\n",
    "        super().__init__()\n",
    "        self.conv1 = nn.Conv2d(1, 6, kernel_size=3)\n",
    "        self.conv2 = nn.Conv2d(6, 10, kernel_size=3)\n",
    "    \n",
    "    def forward(self, x):\n",
    "        return self.conv1(x)\n",
    "net = FeatureExtrator()"
   ]
  },
  {
   "cell_type": "code",
   "execution_count": 16,
   "metadata": {},
   "outputs": [],
   "source": [
    "class NestedLinear(nn.Module):\n",
    "    def __init__(self):\n",
    "        super().__init__()\n",
    "        self.linear1 = nn.Linear(10, 4)\n",
    "        self.linear2 = nn.Linear(4, 2)\n",
    "net2 = NestedLinear()"
   ]
  },
  {
   "cell_type": "code",
   "execution_count": 18,
   "metadata": {},
   "outputs": [
    {
     "name": "stdout",
     "output_type": "stream",
     "text": [
      "FeatureExtrator(\n",
      "  (conv1): Conv2d(1, 6, kernel_size=(3, 3), stride=(1, 1))\n",
      "  (conv2): Conv2d(6, 10, kernel_size=(3, 3), stride=(1, 1))\n",
      ")\n",
      "[torch.Size([6, 1, 3, 3]), torch.Size([6]), torch.Size([10, 6, 3, 3]), torch.Size([10])]\n",
      "NestedLinear(\n",
      "  (linear1): Linear(in_features=10, out_features=4, bias=True)\n",
      "  (linear2): Linear(in_features=4, out_features=2, bias=True)\n",
      ")\n",
      "[torch.Size([4, 10]), torch.Size([4]), torch.Size([2, 4]), torch.Size([2])]\n"
     ]
    }
   ],
   "source": [
    "print(net)\n",
    "print([x.shape for x in list(net.parameters())])\n",
    "print(net2)\n",
    "print([x.shape for x in list(net2.parameters())])"
   ]
  },
  {
   "cell_type": "code",
   "execution_count": 20,
   "metadata": {},
   "outputs": [],
   "source": [
    "class CNN(nn.Module):\n",
    "    def __init__(self):\n",
    "        super().__init__()\n",
    "        self.feature = FeatureExtrator()\n",
    "        self.fc = NestedLinear()\n",
    "cnn = CNN()"
   ]
  },
  {
   "cell_type": "code",
   "execution_count": 23,
   "metadata": {},
   "outputs": [
    {
     "name": "stdout",
     "output_type": "stream",
     "text": [
      "CNN(\n",
      "  (feature): FeatureExtrator(\n",
      "    (conv1): Conv2d(1, 6, kernel_size=(3, 3), stride=(1, 1))\n",
      "    (conv2): Conv2d(6, 10, kernel_size=(3, 3), stride=(1, 1))\n",
      "  )\n",
      "  (fc): NestedLinear(\n",
      "    (linear1): Linear(in_features=10, out_features=4, bias=True)\n",
      "    (linear2): Linear(in_features=4, out_features=2, bias=True)\n",
      "  )\n",
      ")\n",
      "[torch.Size([6, 1, 3, 3]), torch.Size([6]), torch.Size([10, 6, 3, 3]), torch.Size([10]), torch.Size([4, 10]), torch.Size([4]), torch.Size([2, 4]), torch.Size([2])]\n"
     ]
    }
   ],
   "source": [
    "print(cnn)\n",
    "print([x.shape for x in list(cnn.parameters())])"
   ]
  },
  {
   "cell_type": "code",
   "execution_count": null,
   "metadata": {},
   "outputs": [],
   "source": []
  }
 ],
 "metadata": {
  "kernelspec": {
   "display_name": "Python 3",
   "language": "python",
   "name": "python3"
  },
  "language_info": {
   "codemirror_mode": {
    "name": "ipython",
    "version": 3
   },
   "file_extension": ".py",
   "mimetype": "text/x-python",
   "name": "python",
   "nbconvert_exporter": "python",
   "pygments_lexer": "ipython3",
   "version": "3.6.2"
  }
 },
 "nbformat": 4,
 "nbformat_minor": 2
}
