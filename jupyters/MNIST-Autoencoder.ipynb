{
 "cells": [
  {
   "cell_type": "code",
   "execution_count": 62,
   "metadata": {},
   "outputs": [],
   "source": [
    "import numpy as np\n",
    "import tensorflow as tf\n",
    "import matplotlib.pyplot as plt\n",
    "from tensorflow.examples.tutorials.mnist import input_data"
   ]
  },
  {
   "cell_type": "code",
   "execution_count": 63,
   "metadata": {},
   "outputs": [
    {
     "name": "stdout",
     "output_type": "stream",
     "text": [
      "Extracting MNIST_data/train-images-idx3-ubyte.gz\n",
      "Extracting MNIST_data/train-labels-idx1-ubyte.gz\n",
      "Extracting MNIST_data/t10k-images-idx3-ubyte.gz\n",
      "Extracting MNIST_data/t10k-labels-idx1-ubyte.gz\n"
     ]
    }
   ],
   "source": [
    "height = 28\n",
    "width = 28\n",
    "raw_image_channel = 1\n",
    "pixels = height*width*raw_image_channel\n",
    "mnist = input_data.read_data_sets('MNIST_data', one_hot=True)"
   ]
  },
  {
   "cell_type": "code",
   "execution_count": 64,
   "metadata": {},
   "outputs": [],
   "source": [
    "def initial_weight(shape):\n",
    "    return tf.get_variable('W', shape=shape, initializer=tf.truncated_normal_initializer())\n",
    "def initial_bias(shape):\n",
    "    return tf.get_variable('b', shape=shape, initializer=tf.constant_initializer(value=0.1))"
   ]
  },
  {
   "cell_type": "code",
   "execution_count": 65,
   "metadata": {},
   "outputs": [],
   "source": [
    "def fc_layer(bottom, width, name, act_fn='sigmoid'):\n",
    "    input_size = bottom.shape[-1]\n",
    "    with tf.variable_scope(name):\n",
    "        w = initial_weight([input_size, width])\n",
    "        b = initial_bias(width)\n",
    "        s = tf.matmul(bottom, w) + b\n",
    "        if act_fn == 'relu':\n",
    "            h = tf.nn.relu(s)\n",
    "        elif act_fn == 'tanh':\n",
    "            h = tf.nn.tanh(s)\n",
    "        elif act_fn == 'sigmoid':\n",
    "            h = tf.nn.sigmoid(s)\n",
    "        elif act_fn is None:\n",
    "            h = s\n",
    "    return h"
   ]
  },
  {
   "cell_type": "code",
   "execution_count": 66,
   "metadata": {},
   "outputs": [],
   "source": [
    "def autoencoder(x):\n",
    "    e1 = fc_layer(x, 128, 'encoder1')\n",
    "    code = fc_layer(e1, 32, 'encoder2') # Not limited code range\n",
    "    d1 = fc_layer(code, 128, 'decoder1')\n",
    "    logits = fc_layer(d1, pixels, 'decoder2', act_fn=None)\n",
    "    x_construct = tf.sigmoid(logits)\n",
    "    return logits, x_construct"
   ]
  },
  {
   "cell_type": "code",
   "execution_count": 67,
   "metadata": {},
   "outputs": [],
   "source": [
    "def evaluate(x, logits, x_construct, loss_type):\n",
    "    if loss_type=='mse':\n",
    "        loss = tf.losses.mean_squared_error(x, x_construct)\n",
    "    else:\n",
    "        loss = tf.losses.sigmoid_cross_entropy(x, logits)\n",
    "    return loss"
   ]
  },
  {
   "cell_type": "code",
   "execution_count": 68,
   "metadata": {},
   "outputs": [],
   "source": [
    "tf.reset_default_graph()\n",
    "x = tf.placeholder(tf.float32, [None, pixels], name='x')\n",
    "logits, x_construct = autoencoder(x)\n",
    "loss = evaluate(x, logits, x_construct, 'mse')\n",
    "train_step = tf.train.AdamOptimizer(1e-4).minimize(loss)"
   ]
  },
  {
   "cell_type": "code",
   "execution_count": 69,
   "metadata": {},
   "outputs": [
    {
     "name": "stdout",
     "output_type": "stream",
     "text": [
      "step 0, training loss 0.4177\n",
      "step 1000, training loss 0.1047\n",
      "step 2000, training loss 0.0900\n",
      "step 3000, training loss 0.0785\n",
      "step 4000, training loss 0.0820\n",
      "step 5000, training loss 0.0766\n",
      "step 6000, training loss 0.0768\n",
      "step 7000, training loss 0.0733\n",
      "step 8000, training loss 0.0712\n",
      "step 9000, training loss 0.0692\n",
      "step 10000, training loss 0.0662\n",
      "step 11000, training loss 0.0660\n",
      "step 12000, training loss 0.0682\n",
      "step 13000, training loss 0.0617\n",
      "step 14000, training loss 0.0627\n",
      "step 15000, training loss 0.0638\n",
      "step 16000, training loss 0.0617\n",
      "step 17000, training loss 0.0645\n",
      "step 18000, training loss 0.0617\n",
      "step 19000, training loss 0.0633\n",
      "step 20000, training loss 0.0606\n",
      "step 21000, training loss 0.0578\n",
      "step 22000, training loss 0.0603\n",
      "step 23000, training loss 0.0573\n",
      "step 24000, training loss 0.0572\n"
     ]
    }
   ],
   "source": [
    "sess = tf.Session()\n",
    "sess.run(tf.global_variables_initializer())\n",
    "for i in range(25000):\n",
    "    batch = mnist.train.next_batch(50)\n",
    "    if i % 1000 == 0:\n",
    "        train_loss = sess.run(loss, feed_dict={x: batch[0]})\n",
    "        print('step {}, training loss {:.4f}'.format(i, train_loss))\n",
    "    sess.run(train_step, feed_dict={x: batch[0]})"
   ]
  },
  {
   "cell_type": "code",
   "execution_count": 70,
   "metadata": {},
   "outputs": [
    {
     "data": {
      "text/plain": [
       "<matplotlib.image.AxesImage at 0x117061860>"
      ]
     },
     "execution_count": 70,
     "metadata": {},
     "output_type": "execute_result"
    },
    {
     "data": {
      "image/png": "[encoded data removed]",
      "text/plain": [
       "<Figure size 432x288 with 1 Axes>"
      ]
     },
     "metadata": {},
     "output_type": "display_data"
    }
   ],
   "source": [
    "test_x = mnist.test.images[100:105,:]\n",
    "res_x = sess.run(x_construct, feed_dict={x: test_x})\n",
    "test_im = np.reshape(test_x, [-1, height, width])\n",
    "res_im = np.reshape(res_x, [-1, height, width])\n",
    "test_im_append = np.concatenate([test_im[i,:,:] for i in range(5)], axis=1)\n",
    "res_im_append = np.concatenate([res_im[i,:,:] for i in range(5)], axis=1)\n",
    "out_im = np.concatenate([test_im_append, res_im_append], axis=0)\n",
    "plt.imshow(out_im, 'gray')"
   ]
  },
  {
   "cell_type": "markdown",
   "metadata": {},
   "source": [
    "https://gertjanvandenburg.com/blog/autoencoder/\n",
    "https://www.reddit.com/r/MachineLearning/comments/1tym0s/relu_for_autoencoder/\n",
    "http://www.ycc.idv.tw/YCNote/post/43"
   ]
  },
  {
   "cell_type": "code",
   "execution_count": 80,
   "metadata": {},
   "outputs": [
    {
     "data": {
      "text/plain": [
       "0.74716425"
      ]
     },
     "execution_count": 80,
     "metadata": {},
     "output_type": "execute_result"
    }
   ],
   "source": [
    "tf.reset_default_graph()\n",
    "x = tf.placeholder(tf.float32, [2,2])\n",
    "y = tf.placeholder(tf.float32, [2,2])\n",
    "loss = tf.losses.sigmoid_cross_entropy(x, y)\n",
    "sess = tf.Session()\n",
    "xx = np.array([[0.5,0.5],[0.4,0.4]], dtype=np.float32)\n",
    "yy = np.array([[0.6,0.5],[0.4,0.5]], dtype=np.float32)\n",
    "sess.run(loss, {x:xx, y:yy})"
   ]
  },
  {
   "cell_type": "code",
   "execution_count": 84,
   "metadata": {},
   "outputs": [
    {
     "data": {
      "text/plain": [
       "0.6932161"
      ]
     },
     "execution_count": 84,
     "metadata": {},
     "output_type": "execute_result"
    }
   ],
   "source": [
    "np.mean(xx*-np.log(yy)+(1-xx)*-np.log(1-yy))"
   ]
  },
  {
   "cell_type": "code",
   "execution_count": null,
   "metadata": {},
   "outputs": [],
   "source": []
  }
 ],
 "metadata": {
  "kernelspec": {
   "display_name": "Python 3",
   "language": "python",
   "name": "python3"
  },
  "language_info": {
   "codemirror_mode": {
    "name": "ipython",
    "version": 3
   },
   "file_extension": ".py",
   "mimetype": "text/x-python",
   "name": "python",
   "nbconvert_exporter": "python",
   "pygments_lexer": "ipython3",
   "version": "3.6.2"
  }
 },
 "nbformat": 4,
 "nbformat_minor": 2
}
