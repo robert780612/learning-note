{
  "cells": [
    {
      "cell_type": "markdown",
      "metadata": {
        "id": "Hgw19M99tgug"
      },
      "source": [
        "**DPPy** stands for \"DPPs in Python\". It is a Python Toolbox for sampling DPPs.\n",
        "\n",
        "If you use this this toolbox please consider citing the [corresponding JMLR-MLOSS companion paper](http://jmlr.org/papers/v20/19-179.html)\n",
        "\n",
        "In this notebook, we showcase the DPP samplers featured in DPPy, and highlight some of the tools behind the scene.\n",
        "  \n",
        "  [GitHub](https://github.com/guilgautier/DPPy)  \n",
        "  \n",
        "  [ReadTheDocs](https://dppy.readthedocs.io) [![Documentation Status](https://readthedocs.org/projects/dppy/badge/?version=latest)](https://dppy.readthedocs.io/en/latest/?badge=latest)\n",
        "  \n",
        "  [Travis](https://travis-ci.com/guilgautier/DPPy) [![Build Status](https://travis-ci.com/guilgautier/DPPy.svg?branch=master)](https://travis-ci.com/guilgautier/DPPy)\n",
        "  \n",
        "  [Coveralls](https://coveralls.io/github/guilgautier/DPPy) [![Coverage Status](https://coveralls.io/repos/github/guilgautier/DPPy/badge.svg?branch=master)](https://coveralls.io/github/guilgautier/DPPy?branch=master)\n",
        "  \n",
        "   [PyPI version](https://pypi.org/project/dppy/) [![PyPI version](https://badge.fury.io/py/dppy.svg)](https://badge.fury.io/py/dppy)"
      ]
    },
    {
      "cell_type": "markdown",
      "metadata": {
        "toc": "true",
        "id": "_7MBjsAmtgui"
      },
      "source": [
        "<h1>Table of Contents<span class=\"tocSkip\"></span></h1>\n",
        "<div class=\"toc\"><ul class=\"toc-item\"><li><span><a href=\"#Installing-the-package\" data-toc-modified-id=\"Installing-the-package-1\"><span class=\"toc-item-num\">1&nbsp;&nbsp;</span>Installing the package</a></span></li><li><span><a href=\"#Sample-DPPs-with-DPPy\" data-toc-modified-id=\"Sample-DPPs-with-DPPy-2\"><span class=\"toc-item-num\">2&nbsp;&nbsp;</span>Sample DPPs with DPPy</a></span><ul class=\"toc-item\"><li><span><a href=\"#Finite-DPPs\" data-toc-modified-id=\"Finite-DPPs-2.1\"><span class=\"toc-item-num\">2.1&nbsp;&nbsp;</span>Finite DPPs</a></span><ul class=\"toc-item\"><li><span><a href=\"#Instantiating-a-FiniteDPP-object\" data-toc-modified-id=\"Instantiating-a-FiniteDPP-object-2.1.1\"><span class=\"toc-item-num\">2.1.1&nbsp;&nbsp;</span>Instantiating a <code>FiniteDPP</code> object</a></span></li><li><span><a href=\"#Exact-sampling\" data-toc-modified-id=\"Exact-sampling-2.1.2\"><span class=\"toc-item-num\">2.1.2&nbsp;&nbsp;</span>Exact sampling</a></span></li><li><span><a href=\"#MCMC-sampling\" data-toc-modified-id=\"MCMC-sampling-2.1.3\"><span class=\"toc-item-num\">2.1.3&nbsp;&nbsp;</span>MCMC sampling</a></span></li></ul></li><li><span><a href=\"#$k$-DPPs\" data-toc-modified-id=\"$k$-DPPs-2.2\"><span class=\"toc-item-num\">2.2&nbsp;&nbsp;</span>$k$-DPPs</a></span><ul class=\"toc-item\"><li><span><a href=\"#Exact-sampling\" data-toc-modified-id=\"Exact-sampling-2.2.1\"><span class=\"toc-item-num\">2.2.1&nbsp;&nbsp;</span>Exact sampling</a></span></li><li><span><a href=\"#MCMC-sampling\" data-toc-modified-id=\"MCMC-sampling-2.2.2\"><span class=\"toc-item-num\">2.2.2&nbsp;&nbsp;</span>MCMC sampling</a></span></li></ul></li><li><span><a href=\"#Exotic-DPPs\" data-toc-modified-id=\"Exotic-DPPs-2.3\"><span class=\"toc-item-num\">2.3&nbsp;&nbsp;</span>Exotic DPPs</a></span><ul class=\"toc-item\"><li><span><a href=\"#Uniform-Spanning-Trees\" data-toc-modified-id=\"Uniform-Spanning-Trees-2.3.1\"><span class=\"toc-item-num\">2.3.1&nbsp;&nbsp;</span>Uniform Spanning Trees</a></span></li><li><span><a href=\"#The-Poissonized-Plancherel-measure\" data-toc-modified-id=\"The-Poissonized-Plancherel-measure-2.3.2\"><span class=\"toc-item-num\">2.3.2&nbsp;&nbsp;</span>The Poissonized Plancherel measure</a></span></li><li><span><a href=\"#The-Carries-Process\" data-toc-modified-id=\"The-Carries-Process-2.3.3\"><span class=\"toc-item-num\">2.3.3&nbsp;&nbsp;</span>The Carries Process</a></span></li></ul></li><li><span><a href=\"#$\\beta$-ensembles\" data-toc-modified-id=\"$\\beta$-ensembles-2.4\"><span class=\"toc-item-num\">2.4&nbsp;&nbsp;</span>$\\beta$-ensembles</a></span><ul class=\"toc-item\"><li><span><a href=\"#The-circular-ensemble\" data-toc-modified-id=\"The-circular-ensemble-2.4.1\"><span class=\"toc-item-num\">2.4.1&nbsp;&nbsp;</span>The circular ensemble</a></span></li><li><span><a href=\"#The-Hermite-ensemble\" data-toc-modified-id=\"The-Hermite-ensemble-2.4.2\"><span class=\"toc-item-num\">2.4.2&nbsp;&nbsp;</span>The Hermite ensemble</a></span></li><li><span><a href=\"#The-Laguerre-ensemble\" data-toc-modified-id=\"The-Laguerre-ensemble-2.4.3\"><span class=\"toc-item-num\">2.4.3&nbsp;&nbsp;</span>The Laguerre ensemble</a></span></li><li><span><a href=\"#The-Jacobi-ensemble\" data-toc-modified-id=\"The-Jacobi-ensemble-2.4.4\"><span class=\"toc-item-num\">2.4.4&nbsp;&nbsp;</span>The Jacobi ensemble</a></span></li><li><span><a href=\"#The-Ginibre-ensemble\" data-toc-modified-id=\"The-Ginibre-ensemble-2.4.5\"><span class=\"toc-item-num\">2.4.5&nbsp;&nbsp;</span>The Ginibre ensemble</a></span></li></ul></li></ul></li><li><span><a href=\"#Tools-behind-the-scene\" data-toc-modified-id=\"Tools-behind-the-scene-3\"><span class=\"toc-item-num\">3&nbsp;&nbsp;</span>Tools behind the scene</a></span></li></ul></div>"
      ]
    },
    {
      "cell_type": "markdown",
      "metadata": {
        "id": "E0cVmV86s2js"
      },
      "source": [
        "# Installing the package\n",
        "---\n",
        "\n",
        "**Here are the detailed [INSTALLATION INSTRUCTIONS](https://github.com/guilgautier/DPPy#installation) of DPPy**"
      ]
    },
    {
      "cell_type": "markdown",
      "metadata": {
        "id": "e1RPTF1Ktgui"
      },
      "source": [
        "💣 **Note:**\n",
        "- If you have not installed the package yet or\n",
        "- if are using Google Colab'\n",
        "\n",
        "you can uncomment and run one of the following cells."
      ]
    },
    {
      "cell_type": "markdown",
      "metadata": {
        "id": "0Y3GmCYRtguj"
      },
      "source": [
        "To install the last version available on PyPI you can use [![PyPI version](https://badge.fury.io/py/dppy.svg)](https://badge.fury.io/py/dppy)"
      ]
    },
    {
      "cell_type": "code",
      "execution_count": 1,
      "metadata": {
        "id": "lmwEssyutguj",
        "outputId": "f8d4bd2c-0da7-4115-e45d-ea6a5d05f51b",
        "colab": {
          "base_uri": "https://localhost:8080/"
        }
      },
      "outputs": [
        {
          "output_type": "stream",
          "name": "stdout",
          "text": [
            "Collecting dppy\n",
            "  Downloading dppy-0.3.2-py3-none-any.whl (83 kB)\n",
            "\u001b[?25l     \u001b[90m━━━━━━━━━━━━━━━━━━━━━━━━━━━━━━━━━━━━━━━━\u001b[0m \u001b[32m0.0/83.8 kB\u001b[0m \u001b[31m?\u001b[0m eta \u001b[36m-:--:--\u001b[0m\r\u001b[2K     \u001b[91m━━━━━━━━━━━━━━━━━━━━━━━━━━━━━━━━━━━━━━━\u001b[0m\u001b[90m╺\u001b[0m \u001b[32m81.9/83.8 kB\u001b[0m \u001b[31m2.5 MB/s\u001b[0m eta \u001b[36m0:00:01\u001b[0m\r\u001b[2K     \u001b[90m━━━━━━━━━━━━━━━━━━━━━━━━━━━━━━━━━━━━━━━━\u001b[0m \u001b[32m83.8/83.8 kB\u001b[0m \u001b[31m2.0 MB/s\u001b[0m eta \u001b[36m0:00:00\u001b[0m\n",
            "\u001b[?25hRequirement already satisfied: matplotlib in /usr/local/lib/python3.10/dist-packages (from dppy) (3.7.1)\n",
            "Requirement already satisfied: numpy in /usr/local/lib/python3.10/dist-packages (from dppy) (1.23.5)\n",
            "Requirement already satisfied: scipy>=1.1.0 in /usr/local/lib/python3.10/dist-packages (from dppy) (1.11.2)\n",
            "Requirement already satisfied: contourpy>=1.0.1 in /usr/local/lib/python3.10/dist-packages (from matplotlib->dppy) (1.1.0)\n",
            "Requirement already satisfied: cycler>=0.10 in /usr/local/lib/python3.10/dist-packages (from matplotlib->dppy) (0.11.0)\n",
            "Requirement already satisfied: fonttools>=4.22.0 in /usr/local/lib/python3.10/dist-packages (from matplotlib->dppy) (4.42.1)\n",
            "Requirement already satisfied: kiwisolver>=1.0.1 in /usr/local/lib/python3.10/dist-packages (from matplotlib->dppy) (1.4.5)\n",
            "Requirement already satisfied: packaging>=20.0 in /usr/local/lib/python3.10/dist-packages (from matplotlib->dppy) (23.1)\n",
            "Requirement already satisfied: pillow>=6.2.0 in /usr/local/lib/python3.10/dist-packages (from matplotlib->dppy) (9.4.0)\n",
            "Requirement already satisfied: pyparsing>=2.3.1 in /usr/local/lib/python3.10/dist-packages (from matplotlib->dppy) (3.1.1)\n",
            "Requirement already satisfied: python-dateutil>=2.7 in /usr/local/lib/python3.10/dist-packages (from matplotlib->dppy) (2.8.2)\n",
            "Requirement already satisfied: six>=1.5 in /usr/local/lib/python3.10/dist-packages (from python-dateutil>=2.7->matplotlib->dppy) (1.16.0)\n",
            "Installing collected packages: dppy\n",
            "Successfully installed dppy-0.3.2\n"
          ]
        }
      ],
      "source": [
        "!pip install dppy"
      ]
    },
    {
      "cell_type": "markdown",
      "metadata": {
        "id": "PQEEdHaXtguk"
      },
      "source": [
        "💣 **Note: The version available on PyPI might not be the latest version of DPPy.\n",
        "Please consider forking or cloning DPPy using**"
      ]
    },
    {
      "cell_type": "code",
      "execution_count": null,
      "metadata": {
        "id": "_jrm6FSHvGhI"
      },
      "outputs": [],
      "source": [
        "# !rm -r DPPy\n",
        "# !git clone https://github.com/guilgautier/DPPy.git\n",
        "# !pip install scipy --upgrade\n",
        "\n",
        "# Then\n",
        "# !pip install DPPy/.\n",
        "# OR\n",
        "# !pip install DPPy/.['zonotope','trees','docs'] to perform a full installation."
      ]
    },
    {
      "cell_type": "markdown",
      "metadata": {
        "id": "3KwrUFFrtguk"
      },
      "source": [
        "💣 If you have chosen to clone the repo and now wish to interact with the source code while running this notebook.\n",
        "You can uncomment the following cell."
      ]
    },
    {
      "cell_type": "code",
      "execution_count": null,
      "metadata": {
        "id": "ZhJrgKAgtguk"
      },
      "outputs": [],
      "source": [
        "# %load_ext autoreload\n",
        "# %autoreload 2\n",
        "# import os\n",
        "# import sys\n",
        "# sys.path.insert(0, os.path.abspath('..'))"
      ]
    },
    {
      "cell_type": "code",
      "execution_count": 2,
      "metadata": {
        "id": "YoP7xvpVtguk"
      },
      "outputs": [],
      "source": [
        "import numpy as np\n",
        "import matplotlib.pyplot as plt\n",
        "\n",
        "%config InlineBackend.figure_format='retina'"
      ]
    },
    {
      "cell_type": "markdown",
      "metadata": {
        "id": "DW4H9Mr8yKZx"
      },
      "source": [
        "# Sample DPPs with DPPy\n",
        "----\n",
        "\n",
        "The two basic methods of each DPPy object are\n",
        "**`.sample()`** and\n",
        "**`.plot()`**."
      ]
    },
    {
      "cell_type": "markdown",
      "metadata": {
        "id": "zQeHhkxZCewN"
      },
      "source": [
        "## Finite DPPs\n",
        "\n",
        "We refer to the [documentation](https://dppy.readthedocs.io/en/latest/finite_dpps/index.html) for more details and definitions."
      ]
    },
    {
      "cell_type": "code",
      "execution_count": 3,
      "metadata": {
        "id": "aroOJu9vFXOn"
      },
      "outputs": [],
      "source": [
        "from numpy.random import rand, randn\n",
        "from scipy.linalg import qr\n",
        "\n",
        "from dppy.finite_dpps import FiniteDPP\n",
        "from dppy.utils import example_eval_L_linear"
      ]
    },
    {
      "cell_type": "markdown",
      "metadata": {
        "id": "O9PX6gXkYCLZ"
      },
      "source": [
        "### Instantiating a `FiniteDPP` object"
      ]
    },
    {
      "cell_type": "markdown",
      "metadata": {
        "id": "wYxj7IepX7ag"
      },
      "source": [
        "You can define a finite DPP through its correlation kernel $\\mathbf{K}\n",
        "\\in\\mathbb{R}^{N\\times N}$. In that case, we write $\\mathcal{X}\\sim DPP(\\mathbf{K})$ to mean\n",
        "$$\\qquad \\mathbb{P}[S \\subseteq \\mathcal{X}] = \\det \\mathbf{K}_S.$$"
      ]
    },
    {
      "cell_type": "markdown",
      "metadata": {
        "id": "cj1Mk_7Vtgul"
      },
      "source": [
        "To illustrate the various ways of defining a `FiniteDPP`, we create a bunch of eigenvalues and eigenvectors for $\\mathbf{K}$, which we take here to be symmetric."
      ]
    },
    {
      "cell_type": "code",
      "execution_count": 10,
      "metadata": {
        "id": "yx3ajc1HGxOf"
      },
      "outputs": [],
      "source": [
        "r, N = 6, 10\n",
        "\n",
        "# Random orthogonal vectors\n",
        "eig_vecs, _ = qr(randn(N, r), mode='economic')\n",
        "# Random eigenvalues\n",
        "eig_vals = rand(r)  # 0< <1\n",
        "#eig_vals = np.random.randint(2, size=r) # 0 or 1 i.e. projection"
      ]
    },
    {
      "cell_type": "markdown",
      "metadata": {
        "id": "Vvkfom6rY250"
      },
      "source": [
        "You can first define a `FiniteDPP`through its kernel itself, provided\n",
        "$$\\qquad 0 \\preceq \\mathbf{K} \\preceq I$$\n",
        "to guarantee the existence of the DPP."
      ]
    },
    {
      "cell_type": "code",
      "execution_count": 23,
      "metadata": {
        "id": "10VrZaSsYYLd"
      },
      "outputs": [],
      "source": [
        "K = (eig_vecs*eig_vals).dot(eig_vecs.T)\n",
        "DPP = FiniteDPP('correlation',\n",
        "                **{'K': K})"
      ]
    },
    {
      "cell_type": "code",
      "source": [
        "K"
      ],
      "metadata": {
        "id": "WMlgoDHNyMFd",
        "outputId": "bf206638-b975-4b5c-fe16-7e044022d65d",
        "colab": {
          "base_uri": "https://localhost:8080/"
        }
      },
      "execution_count": 43,
      "outputs": [
        {
          "output_type": "execute_result",
          "data": {
            "text/plain": [
              "array([[ 0.33363499, -0.12015976,  0.02012671, -0.04862187, -0.15428604,\n",
              "        -0.08925629,  0.21485786, -0.0412369 ,  0.19288545, -0.16579402],\n",
              "       [-0.12015976,  0.34324305, -0.32227679,  0.10441851, -0.03286547,\n",
              "         0.14311736, -0.06520338,  0.01395622, -0.00436118,  0.11122164],\n",
              "       [ 0.02012671, -0.32227679,  0.4224986 , -0.08145855, -0.0118892 ,\n",
              "        -0.0812723 ,  0.03522323,  0.01781731, -0.01631971,  0.12700095],\n",
              "       [-0.04862187,  0.10441851, -0.08145855,  0.08343632,  0.01481749,\n",
              "         0.00301648, -0.08684547, -0.02263385,  0.01229785,  0.06070857],\n",
              "       [-0.15428604, -0.03286547, -0.0118892 ,  0.01481749,  0.29760627,\n",
              "        -0.11243382, -0.20240851, -0.10032895, -0.02626878, -0.08003664],\n",
              "       [-0.08925629,  0.14311736, -0.0812723 ,  0.00301648, -0.11243382,\n",
              "         0.18135147,  0.05980617,  0.0719923 , -0.09810572,  0.12701308],\n",
              "       [ 0.21485786, -0.06520338,  0.03522323, -0.08684547, -0.20240851,\n",
              "         0.05980617,  0.2621154 ,  0.01914594,  0.08619377, -0.03105685],\n",
              "       [-0.0412369 ,  0.01395622,  0.01781731, -0.02263385, -0.10032895,\n",
              "         0.0719923 ,  0.01914594,  0.13564817, -0.13498774, -0.01050131],\n",
              "       [ 0.19288545, -0.00436118, -0.01631971,  0.01229785, -0.02626878,\n",
              "        -0.09810572,  0.08619377, -0.13498774,  0.31529387,  0.08863773],\n",
              "       [-0.16579402,  0.11122164,  0.12700095,  0.06070857, -0.08003664,\n",
              "         0.12701308, -0.03105685, -0.01050131,  0.08863773,  0.55131455]])"
            ]
          },
          "metadata": {},
          "execution_count": 43
        }
      ]
    },
    {
      "cell_type": "code",
      "source": [
        "K2 = np.zeros([10,10])\n",
        "for i in range(6):\n",
        "    partial_sum = eig_vals[i] * eig_vecs[:,i:(i+1)].dot(eig_vecs[:,i:(i+1)].T)\n",
        "    K2 += partial_sum\n",
        "    # print(partial_sum)\n",
        "np.testing.assert_almost_equal(K2, K)"
      ],
      "metadata": {
        "id": "kGnK3hcwzvBO"
      },
      "execution_count": 50,
      "outputs": []
    },
    {
      "cell_type": "markdown",
      "metadata": {
        "id": "NaE-qSTwtgul"
      },
      "source": [
        "Equivalently, you can directly input the eigendecomposition,\n",
        "\n",
        "$\\qquad \\mathbf{K} = \\sum_{n=1}^{N} \\lambda_n u_n u_n^{\\top}, \\quad 0 \\leq \\lambda_n \\leq 1$."
      ]
    },
    {
      "cell_type": "code",
      "execution_count": null,
      "metadata": {
        "id": "3uvzxKLEX2nA"
      },
      "outputs": [],
      "source": [
        "DPP = FiniteDPP('correlation',\n",
        "                **{'K_eig_dec': (eig_vals, eig_vecs)})"
      ]
    },
    {
      "cell_type": "markdown",
      "metadata": {
        "id": "eolHjCajtgul"
      },
      "source": [
        "In machine learning, it is common to forget about $\\mathbf{K}$ and existence conditions by working with the \"likelihood\" kernel $\\mathbf{L}\\in\\mathbb{R}^{N\\times N}$, and define $\\mathcal{X}\\sim\\operatorname{DPP}(\\mathbf{L})$ to mean\n",
        "\n",
        "$$\\qquad \\mathbb{P}[\\mathcal{X} = S] \\propto \\det \\mathbf{L}_S.$$"
      ]
    },
    {
      "cell_type": "markdown",
      "metadata": {
        "id": "FVXjuj4Itgul"
      },
      "source": [
        "In `DPPy`, you can define a DPP through its likelihood kernel, provided $\\mathbf{L}\\succeq 0$."
      ]
    },
    {
      "cell_type": "code",
      "execution_count": null,
      "metadata": {
        "id": "lT97Ia7Ptgum"
      },
      "outputs": [],
      "source": [
        "DPP = FiniteDPP('likelihood',\n",
        "                **{'L': (eig_vecs*(eig_vals/(1-eig_vals))).dot(eig_vecs.T)})"
      ]
    },
    {
      "cell_type": "markdown",
      "metadata": {
        "id": "1YXiA2hdtgum"
      },
      "source": [
        "Again, you can also input the eigendecomposition directly,\n",
        "\n",
        "$$\\mathbf{L} = \\sum_{n=1}^{N} \\delta_n u_n u_n^{\\top}, \\quad \\delta_n \\geq 0.$$"
      ]
    },
    {
      "cell_type": "code",
      "execution_count": null,
      "metadata": {
        "id": "AtnY5Rfntgun"
      },
      "outputs": [],
      "source": [
        "DPP = FiniteDPP('likelihood',\n",
        "                **{'L_eig_dec': (eig_vals/(1-eig_vals), eig_vecs)})"
      ]
    },
    {
      "cell_type": "markdown",
      "metadata": {
        "id": "08iu35_etgun"
      },
      "source": [
        "We also include an option to input feature vectors $\\Phi \\in \\mathbb{R}^{r\\times N}$, which define $\\mathbf{L}$ as\n",
        "\n",
        "$$\\qquad \\mathbf{L}=\\Phi^{\\top} \\Phi.$$"
      ]
    },
    {
      "cell_type": "code",
      "execution_count": null,
      "metadata": {
        "id": "CyxymfcTtgun"
      },
      "outputs": [],
      "source": [
        "DPP = FiniteDPP('likelihood',\n",
        "                **{'L_gram_factor': randn(r, N)})"
      ]
    },
    {
      "cell_type": "markdown",
      "metadata": {
        "id": "hgcvUD60uIYR"
      },
      "source": [
        "And finally, you can provide a pair `(eval_L, X_data)`\n",
        "such that the $(i,j)$-th entry of $\\mathbf{L}$ is computed by evaluating the likelihood function\n",
        "$\\texttt{eval_L}(\\mathbf{x}_i, \\mathbf{x}_j)$ between points $i$ and $j$, i.e. rows $i$ and $j$ of\n",
        "the data matrix $\\mathbf{X}_{data} \\in \\mathbb{R}^{N \\times r}$.\n",
        "For a full description of the\n",
        "requirements imposed on `eval_L`'s interface, see the documentation of `dppy.vfx_sampling.vfx_sampling_precompute_constants`.\n",
        "For an example, see `dppy.utils.example_eval_L_*` or the implementation of any of the kernels provided by scikit-learn\n",
        "(e.g. `sklearn.gaussian_process.kernels.PairwiseKernel`)."
      ]
    },
    {
      "cell_type": "code",
      "execution_count": null,
      "metadata": {
        "id": "Sc-xjjEFtgun"
      },
      "outputs": [],
      "source": [
        "DPP = FiniteDPP('likelihood',\n",
        "                **{'L_eval_X_data': (example_eval_L_linear, randn(N, r))})"
      ]
    },
    {
      "cell_type": "markdown",
      "metadata": {
        "id": "nelY4RcEtgun"
      },
      "source": [
        "Users can go back and forth between the $\\mathbf{K}$ and $\\mathbf{L}$ kernels, since $\\mathbf{L}=\\mathbf{K}(I-\\mathbf{K})^{-1}$."
      ]
    },
    {
      "cell_type": "code",
      "execution_count": null,
      "metadata": {
        "id": "faqpPEfofr5q"
      },
      "outputs": [],
      "source": [
        "DPP = FiniteDPP('correlation', **{'K_eig_dec': (eig_vals, eig_vecs)})\n",
        "DPP.compute_L()\n",
        "#print(DPP.L)"
      ]
    },
    {
      "cell_type": "markdown",
      "metadata": {
        "id": "jyxwUJOngJYn"
      },
      "source": [
        "And vice versa."
      ]
    },
    {
      "cell_type": "code",
      "execution_count": null,
      "metadata": {
        "id": "xMpISGYGgLYB"
      },
      "outputs": [],
      "source": [
        "eig_vals = 4*rand(r)  # >=0\n",
        "DPP = FiniteDPP('likelihood', **{'L_eig_dec': (eig_vals, eig_vecs)})\n",
        "DPP.compute_K()\n",
        "#print(DPP.K)"
      ]
    },
    {
      "cell_type": "markdown",
      "metadata": {
        "id": "wHNVWQvFaVvr"
      },
      "source": [
        "You can also visualize the underlying kernel."
      ]
    },
    {
      "cell_type": "code",
      "execution_count": null,
      "metadata": {
        "id": "e5OmsE9Rad5E"
      },
      "outputs": [],
      "source": [
        "eig_vals = rand(r)  # 0< <1\n",
        "DPP = FiniteDPP('correlation', **{'K_eig_dec': (eig_vals, eig_vecs)})\n",
        "DPP.plot_kernel()"
      ]
    },
    {
      "cell_type": "markdown",
      "metadata": {
        "id": "ljKpQ-ByWlGJ"
      },
      "source": [
        "### Exact sampling\n",
        "`DPPy` implements different exact DPP samplers.\n",
        "\n",
        "The default option is a sampler based on eigendecomposition and volume sampling."
      ]
    },
    {
      "cell_type": "code",
      "execution_count": null,
      "metadata": {
        "id": "obYv725EWRRH"
      },
      "outputs": [],
      "source": [
        "# Sample\n",
        "for _ in range(10):\n",
        "    DPP.sample_exact()\n",
        "\n",
        "DPP.list_of_samples"
      ]
    },
    {
      "cell_type": "code",
      "execution_count": null,
      "metadata": {
        "id": "TGEWkkip5jyd"
      },
      "outputs": [],
      "source": [
        "DPP.flush_samples()\n",
        "DPP.list_of_samples"
      ]
    },
    {
      "cell_type": "markdown",
      "metadata": {
        "id": "LHD6RhupmHCx"
      },
      "source": [
        "Another option is the `\"vfx\"` sampler based on rejection sampling.\n",
        "\n",
        "While this method has a fixed set-up cost that might make it not worthwhile for small problems\n",
        "(e.g. $N \\leq 500$), it is much more scalable for larger problems.\n",
        "\n",
        "This sampler is currently available only for the `\"L_eval_X_data\"` DPP representation."
      ]
    },
    {
      "cell_type": "code",
      "execution_count": null,
      "metadata": {
        "id": "9_AyM9vstguq"
      },
      "outputs": [],
      "source": [
        "# Sample\n",
        "DPP = FiniteDPP('likelihood',\n",
        "                **{'L_eval_X_data': (example_eval_L_linear, randn(N, r))})\n",
        "\n",
        "for _ in range(10):\n",
        "    DPP.sample_exact('vfx')\n",
        "\n",
        "DPP.list_of_samples"
      ]
    },
    {
      "cell_type": "markdown",
      "metadata": {
        "id": "lhWxkMhRtgur"
      },
      "source": [
        "### MCMC sampling\n",
        "\n",
        "`DPPy` has most MCMC samplers from the literature, like the \"add-exchange-delete\" chain."
      ]
    },
    {
      "cell_type": "code",
      "execution_count": null,
      "metadata": {
        "id": "R1w9z2jnpH5o"
      },
      "outputs": [],
      "source": [
        "r, N = 4, 10\n",
        "Phi = randn(r, N)\n",
        "L = Phi.T.dot(Phi)\n",
        "DPP = FiniteDPP('likelihood', **{'L': L})"
      ]
    },
    {
      "cell_type": "code",
      "execution_count": null,
      "metadata": {
        "id": "RseKLyBQneYR"
      },
      "outputs": [],
      "source": [
        "DPP.flush_samples()\n",
        "DPP.sample_mcmc('E') # 'E' for \"exchange\"\n",
        "DPP.list_of_samples"
      ]
    },
    {
      "cell_type": "code",
      "execution_count": null,
      "metadata": {
        "id": "dya6CDfjqZWF"
      },
      "outputs": [],
      "source": [
        "eig_vecs, _ = qr(randn(N, r), mode='economic')\n",
        "eig_vals = rand(r)\n",
        "\n",
        "DPP = FiniteDPP('correlation', **{'K_eig_dec': (eig_vals, eig_vecs)})\n",
        "DPP.sample_mcmc('AD')\n",
        "DPP.list_of_samples"
      ]
    },
    {
      "cell_type": "code",
      "execution_count": null,
      "metadata": {
        "id": "_vg14oDwpUfU"
      },
      "outputs": [],
      "source": [
        "DPP.flush_samples()\n",
        "DPP.sample_mcmc('AED')  #E, AD\n",
        "DPP.list_of_samples"
      ]
    },
    {
      "cell_type": "markdown",
      "metadata": {
        "id": "VImPJ3x2o4vN"
      },
      "source": [
        "Some MCMC samplers have been designed to allow more global moves, like the \"zonotope hit-and-run\"."
      ]
    },
    {
      "cell_type": "code",
      "execution_count": null,
      "metadata": {
        "id": "AubAvnRgpw97"
      },
      "outputs": [],
      "source": [
        "r, N = 4, 10\n",
        "A = randn(r, N)\n",
        "\n",
        "DPP = FiniteDPP('correlation', projection=True, **{'A_zono': A})\n",
        "\n",
        "DPP.sample_mcmc('zonotope')\n",
        "print(DPP.list_of_samples)"
      ]
    },
    {
      "cell_type": "markdown",
      "metadata": {
        "id": "bp38p7AWtgur"
      },
      "source": [
        "## $k$-DPPs\n",
        "\n",
        "In machine learning, $k$-DPPs have also been considered; see [documentation](https://dppy.readthedocs.io/en/latest/finite_dpps/definition.html#k-dpps). One way to define them is condition a DPP defined though its likelihood kernel $\\mathbb{L}$ to have a fixed sample size $k$.\n",
        "\n",
        "$$\\mathbb{P}[\\mathcal{X} = S] \\propto \\det \\mathbf{L}_S ~~ 1_{|S|=k}.$$"
      ]
    },
    {
      "cell_type": "code",
      "execution_count": null,
      "metadata": {
        "id": "gMvB9_Uitgur"
      },
      "outputs": [],
      "source": [
        "r, N = 5, 10\n",
        "\n",
        "# Random feature vectors\n",
        "Phi = randn(r, N)\n",
        "DPP = FiniteDPP('likelihood', **{'L': Phi.T.dot(Phi)})"
      ]
    },
    {
      "cell_type": "markdown",
      "metadata": {
        "id": "ipRjxxl7tgur"
      },
      "source": [
        "### Exact sampling\n",
        "\n",
        "See [documentation](https://dppy.readthedocs.io/en/latest/finite_dpps/exact_sampling.html#k-dpps)."
      ]
    },
    {
      "cell_type": "code",
      "execution_count": null,
      "metadata": {
        "id": "URZYUeq2tgur"
      },
      "outputs": [],
      "source": [
        "k = 3\n",
        "DPP.flush_samples()\n",
        "for _ in range(10):\n",
        "    DPP.sample_exact_k_dpp(size=3)\n",
        "\n",
        "DPP.list_of_samples"
      ]
    },
    {
      "cell_type": "markdown",
      "metadata": {
        "id": "G3okOOg9tgur"
      },
      "source": [
        "Another option uses the `\"vfx\"` sampler.\n",
        "\n",
        "This method keeps drawing from $\\operatorname{DPP}(\\mathbf{L})$ until the sample has cardinality $k$."
      ]
    },
    {
      "cell_type": "code",
      "execution_count": null,
      "metadata": {
        "id": "cD8Uv63atgur"
      },
      "outputs": [],
      "source": [
        "# Sample\n",
        "DPP = FiniteDPP('likelihood',\n",
        "                **{'L_eval_X_data': (example_eval_L_linear, randn(N, r))})\n",
        "\n",
        "for _ in range(10):\n",
        "    DPP.sample_exact_k_dpp(size=k, mode='vfx')\n",
        "\n",
        "DPP.list_of_samples"
      ]
    },
    {
      "cell_type": "markdown",
      "metadata": {
        "id": "LpnOUN5Ctgur"
      },
      "source": [
        "### MCMC sampling\n",
        "\n",
        "To preserve the cardinality of the samples, only exchange moves can be performed among the \"add-exchange-delete\" options."
      ]
    },
    {
      "cell_type": "code",
      "execution_count": null,
      "metadata": {
        "id": "-D8pGptttgur"
      },
      "outputs": [],
      "source": [
        "k = 3\n",
        "DPP.flush_samples()\n",
        "DPP.sample_mcmc_k_dpp(size=k)\n",
        "DPP.list_of_samples"
      ]
    },
    {
      "cell_type": "markdown",
      "metadata": {
        "id": "QfaSOUqIZe84"
      },
      "source": [
        "## Exotic DPPs\n",
        "\n",
        "In this section, we gather some exotic DPPs for research purposes. We focus on DPPs that come with apparently adhoc, efficient sampling algorithms. Again, we refer to the [documentation](https://dppy.readthedocs.io/en/latest/exotic_dpps/index.html) for more details and references."
      ]
    },
    {
      "cell_type": "markdown",
      "metadata": {
        "id": "JvZbZ2yFtgZS"
      },
      "source": [
        "### Uniform Spanning Trees\n",
        "\n",
        "If you draw a uniform spanning tree of a connected graph, and collect its edges in a set, you have a DPP on the set of edges."
      ]
    },
    {
      "cell_type": "code",
      "execution_count": null,
      "metadata": {
        "id": "9ACDuYjutgur"
      },
      "outputs": [],
      "source": [
        "import networkx as nx\n",
        "\n",
        "from dppy.exotic_dpps import UST"
      ]
    },
    {
      "cell_type": "markdown",
      "metadata": {
        "id": "1eK6lnK5tgur"
      },
      "source": [
        "Let us generate a graph."
      ]
    },
    {
      "cell_type": "code",
      "execution_count": null,
      "metadata": {
        "cellView": "both",
        "id": "Fz_2vT5PteQb"
      },
      "outputs": [],
      "source": [
        "g = nx.Graph()\n",
        "edges = [(0,2), (0,3), (1,2), (1,4), (2,3), (2,4), (3,4)]\n",
        "g.add_edges_from(edges)\n",
        "\n",
        "ust = UST(g)\n",
        "\n",
        "ust.plot_graph()"
      ]
    },
    {
      "cell_type": "markdown",
      "metadata": {
        "id": "7v6l0cYR8Sir"
      },
      "source": [
        "And display the correlation kernel of the corresponding DPP."
      ]
    },
    {
      "cell_type": "code",
      "execution_count": null,
      "metadata": {
        "id": "xWSCBX587zh2"
      },
      "outputs": [],
      "source": [
        "ust.compute_kernel()\n",
        "ust.plot_kernel()"
      ]
    },
    {
      "cell_type": "markdown",
      "metadata": {
        "id": "UCP_YBDY7_EE"
      },
      "source": [
        "Sampling a UST can be done using exact sampling for DPPs, but there are smart Markov chain arguments that yield other *exact* sampling algorithms."
      ]
    },
    {
      "cell_type": "code",
      "execution_count": null,
      "metadata": {
        "id": "IAaeF9rZ79vn"
      },
      "outputs": [],
      "source": [
        "for md in ('Aldous-Broder', 'Wilson', 'GS'):\n",
        "    ust.sample(md)\n",
        "    ust.plot()"
      ]
    },
    {
      "cell_type": "markdown",
      "metadata": {
        "id": "eH31R4T8kIDM"
      },
      "source": [
        "### The Poissonized Plancherel measure\n",
        "\n",
        "This DPP appears in combinatorics and can be sampled using a constructive bijection called the Robinson-Schensted-Knuth correspondence."
      ]
    },
    {
      "cell_type": "code",
      "execution_count": null,
      "metadata": {
        "id": "irb4aF4otgus"
      },
      "outputs": [],
      "source": [
        "from dppy.exotic_dpps import PoissonizedPlancherel"
      ]
    },
    {
      "cell_type": "code",
      "execution_count": null,
      "metadata": {
        "id": "ufSAqkEFkkde",
        "scrolled": false
      },
      "outputs": [],
      "source": [
        "theta = 1500  # Poisson parameter\n",
        "pp_dpp = PoissonizedPlancherel(theta=theta)\n",
        "pp_dpp.sample()\n",
        "pp_dpp.plot_diagram(True)"
      ]
    },
    {
      "cell_type": "markdown",
      "metadata": {
        "id": "iv5EwTfmktBJ"
      },
      "source": [
        "### The Carries Process\n",
        "This DPP is simply obtained by noting the position of carries when you add i.i.d. uniform integer digits in some base $b$."
      ]
    },
    {
      "cell_type": "code",
      "execution_count": null,
      "metadata": {
        "id": "rtQt2RjGtgus"
      },
      "outputs": [],
      "source": [
        "from dppy.exotic_dpps import CarriesProcess"
      ]
    },
    {
      "cell_type": "code",
      "execution_count": null,
      "metadata": {
        "cellView": "form",
        "id": "T5LLms-plYR4",
        "scrolled": true
      },
      "outputs": [],
      "source": [
        "#@title ##### Use a slider!\n",
        "\n",
        "_base = 10  #@param {type:'slider', min:0, max:10, step:1}\n",
        "_size = 63  #@param {type:'slider', min:0, max:1000, step:1}\n",
        "\n",
        "cp = CarriesProcess(_base)\n",
        "\n",
        "cp.sample(_size)\n",
        "\n",
        "cp.plot(vs_bernoullis=True)"
      ]
    },
    {
      "cell_type": "markdown",
      "metadata": {
        "id": "Q12BjnKoucEq"
      },
      "source": [
        "## $\\beta$-ensembles\n",
        "\n",
        "$\\beta$-ensembles are an important particular case of point processes that appear in random matrix theory, see the [documentation](https://dppy.readthedocs.io/en/latest/continuous_dpps/index.html).\n",
        "\n",
        "When $\\beta=2$, they are projection DPPs."
      ]
    },
    {
      "cell_type": "markdown",
      "metadata": {
        "id": "0eZbIbGwpKXw"
      },
      "source": [
        "### The circular ensemble"
      ]
    },
    {
      "cell_type": "markdown",
      "metadata": {
        "id": "01VTKCO_tgus"
      },
      "source": [
        "Loosely speaking, the circular ensemble is a repulsive version of points uniformly drawn on the unit circle.\n",
        "\n",
        "It also characterizes the eigenvalue distribution of random unitary matrices."
      ]
    },
    {
      "cell_type": "code",
      "execution_count": null,
      "metadata": {
        "id": "8Trgn-bRpBNc"
      },
      "outputs": [],
      "source": [
        "from dppy.beta_ensembles import CircularEnsemble\n",
        "\n",
        "circular = CircularEnsemble(beta=2)  # beta must be a nonnegative integer, default is beta=2"
      ]
    },
    {
      "cell_type": "markdown",
      "metadata": {
        "id": "j8Z0KEZdxq_f"
      },
      "source": [
        "When $\\beta$ increases, the samples tend to \"cristallize\". You can try several values of $\\beta$ in the following cell."
      ]
    },
    {
      "cell_type": "code",
      "execution_count": null,
      "metadata": {
        "cellView": "form",
        "id": "NKxoidomyIT5"
      },
      "outputs": [],
      "source": [
        "#@title ##### Use a slider! (on G-Colab only!!)\n",
        "\n",
        "_beta = 10 #@param {type:'slider', min:0, max:100, step:1}\n",
        "_size = 30  #@param {type:'slider', min:0, max:100, step:1}\n",
        "\n",
        "circular.beta = _beta\n",
        "circular.sample_banded_model(size_N=_size)\n",
        "circular.plot()"
      ]
    },
    {
      "cell_type": "markdown",
      "metadata": {
        "id": "ysnn747E04q8"
      },
      "source": [
        "Here is a loop that also demonstrates the cristallization."
      ]
    },
    {
      "cell_type": "code",
      "execution_count": null,
      "metadata": {
        "id": "BXhZcGE-xVtR"
      },
      "outputs": [],
      "source": [
        "for b in (0, 1, 5, 10):\n",
        "    circular.beta = b\n",
        "    circular.sample_banded_model(size_N=30)\n",
        "    circular.plot()"
      ]
    },
    {
      "cell_type": "markdown",
      "metadata": {
        "id": "g4pzjDKhpBNd"
      },
      "source": [
        "The circular ensemble can be sampled by diagonalizing dense random matrices when $\\beta \\in \\{0, 1, 2, 4\\}$."
      ]
    },
    {
      "cell_type": "code",
      "execution_count": null,
      "metadata": {
        "id": "nOHlvFddpBNe"
      },
      "outputs": [],
      "source": [
        "circular.beta = 2\n",
        "# 1. Plot the eigenvalues, they lie on the unit circle\n",
        "circular.sample_full_model(size_N=30, haar_mode='Hermite')  # Sample # haar_mode = 'Hermite'/'QR'\n",
        "circular.plot() # Plot of the eigenvalues\n",
        "\n",
        "# 2. Histogram of the angle of more points, should look uniform on [0,2pi]\n",
        "circular.sample_full_model(size_N=1000, haar_mode='Hermite')  # Sample\n",
        "circular.hist()"
      ]
    },
    {
      "cell_type": "markdown",
      "metadata": {
        "id": "HYcJ2I1-pBNi"
      },
      "source": [
        "They can also be sampled by diagonalizing banded (quindiagonal) matrices  when $\\beta \\in \\mathbb{N}^*$."
      ]
    },
    {
      "cell_type": "code",
      "execution_count": null,
      "metadata": {
        "id": "FjFT3cEKpBNi"
      },
      "outputs": [],
      "source": [
        "circular.beta = 7\n",
        "circular.sample_banded_model(size_N=30)\n",
        "circular.plot()\n",
        "\n",
        "circular.sample_banded_model(size_N=1000)\n",
        "circular.hist()"
      ]
    },
    {
      "cell_type": "markdown",
      "metadata": {
        "id": "1gdA1Whstgut"
      },
      "source": [
        "When $\\beta=0$, the circular ensemble boils down to i.i.d. uniform points on the unit circle."
      ]
    },
    {
      "cell_type": "code",
      "execution_count": null,
      "metadata": {
        "id": "Oxc5bdqHtgut"
      },
      "outputs": [],
      "source": [
        "circular.beta = 0\n",
        "circular.sample_banded_model(size_N=30)\n",
        "circular.plot()"
      ]
    },
    {
      "cell_type": "markdown",
      "metadata": {
        "id": "KjMLG766JjlZ"
      },
      "source": [
        "### The Hermite ensemble"
      ]
    },
    {
      "cell_type": "markdown",
      "metadata": {
        "id": "59ts6PbQtgut"
      },
      "source": [
        "Loosely speaking, the Hermite ensemble is a repulsive version of points drawn i.i.d. from a unit Gaussian.\n",
        "\n",
        "It also characterizes the eigenvalue distribution of symmetric Gaussian matrices."
      ]
    },
    {
      "cell_type": "code",
      "execution_count": null,
      "metadata": {
        "id": "3C6o1uAhjFgV"
      },
      "outputs": [],
      "source": [
        "from dppy.beta_ensembles import HermiteEnsemble\n",
        "\n",
        "hermite = HermiteEnsemble(beta=4)  # beta can be >=0, default beta=2"
      ]
    },
    {
      "cell_type": "markdown",
      "metadata": {
        "id": "BvdJ1cAZl0wU"
      },
      "source": [
        "Again, the Hermite ensemble can be sampled by diagonalizing a dense random matrix when $\\beta \\in \\{0, 1, 2, 4\\}$."
      ]
    },
    {
      "cell_type": "code",
      "execution_count": null,
      "metadata": {
        "id": "xcI5CwGztgut"
      },
      "outputs": [],
      "source": [
        "hermite.sample_full_model(size_N=500)\n",
        "# hermite.plot(normalization=True)\n",
        "hermite.hist(normalization=True)"
      ]
    },
    {
      "cell_type": "markdown",
      "metadata": {
        "id": "TaObrYqBtgut"
      },
      "source": [
        "And again, there is a tridiagonal matrix model that has the same law for its eigenvalues. It is much faster to sample."
      ]
    },
    {
      "cell_type": "code",
      "execution_count": null,
      "metadata": {
        "id": "fqJHM7eItgut"
      },
      "outputs": [],
      "source": [
        "hermite.sample_banded_model(size_N=500)\n",
        "hermite.hist(normalization=True)"
      ]
    },
    {
      "cell_type": "markdown",
      "metadata": {
        "id": "UdVcX5zOl9Dl"
      },
      "source": [
        "The tridiagonal matrix model can have $\\beta \\in \\mathbb{R}_+$."
      ]
    },
    {
      "cell_type": "code",
      "execution_count": null,
      "metadata": {
        "id": "xb6Rv_i3l9bt"
      },
      "outputs": [],
      "source": [
        "# beta can be >= 0, default beta=2\n",
        "hermite.beta= 5.43  # Or hermite = HermiteEnsemble(beta=5.43)\n",
        "# Reference measure is N(mu, sigma^2)\n",
        "hermite.sample_banded_model(loc=0.0, scale=1.0, size_N=500)\n",
        "# hermite.plot(normalization=True)\n",
        "hermite.hist(normalization=True)"
      ]
    },
    {
      "cell_type": "markdown",
      "metadata": {
        "id": "6ycEFGEptgut"
      },
      "source": [
        "When $\\beta=0$, the Hermite ensemble is a set of i.i.d. Gaussians."
      ]
    },
    {
      "cell_type": "code",
      "execution_count": null,
      "metadata": {
        "id": "uLjvkWbDtgut"
      },
      "outputs": [],
      "source": [
        "# beta can be >= 0, default beta=2\n",
        "hermite.beta= 0  # Or hermite = HermiteEnsemble(beta=5.43)\n",
        "# Reference measure is N(mu, sigma^2)\n",
        "hermite.sample_banded_model(size_N=1000)\n",
        "# hermite.plot(normalization=True)\n",
        "hermite.hist(normalization=True)  # True: N(0,2) as in full matrix model"
      ]
    },
    {
      "cell_type": "markdown",
      "metadata": {
        "id": "1GAlE1x7jIbb"
      },
      "source": [
        "### The Laguerre ensemble"
      ]
    },
    {
      "cell_type": "markdown",
      "metadata": {
        "id": "gl8n699ytgut"
      },
      "source": [
        "Loosely speaking, the Laguerre ensemble is a repulsive version of points drawn i.i.d. from a Gamma distribution.\n",
        "\n",
        "It also characterizes the eigenvalue distribution of the covariance matrix built from i.i.d. Gaussian vectors."
      ]
    },
    {
      "cell_type": "code",
      "execution_count": null,
      "metadata": {
        "id": "yPTNBsv-tgut"
      },
      "outputs": [],
      "source": [
        "from dppy.beta_ensembles import LaguerreEnsemble\n",
        "\n",
        "laguerre = LaguerreEnsemble(beta=1)  # beta can be >= 0, default beta=2"
      ]
    },
    {
      "cell_type": "markdown",
      "metadata": {
        "id": "zgdCBYnUoukN"
      },
      "source": [
        "There is again a dense matrix model for $\\beta \\in \\{0, 1, 2, 4\\}$."
      ]
    },
    {
      "cell_type": "code",
      "execution_count": null,
      "metadata": {
        "id": "oxOEi1y1oxU-"
      },
      "outputs": [],
      "source": [
        "laguerre.sample_full_model(size_N=500, size_M=800)  # M >= N\n",
        "# laguerre.plot(normalization=True)\n",
        "laguerre.hist(normalization=True)"
      ]
    },
    {
      "cell_type": "markdown",
      "metadata": {
        "id": "h3wHbcfVtgut"
      },
      "source": [
        "There is again a tridiagonal model that is faster to run."
      ]
    },
    {
      "cell_type": "code",
      "execution_count": null,
      "metadata": {
        "id": "KaJbZCbHtgut"
      },
      "outputs": [],
      "source": [
        "laguerre.sample_banded_model(size_N=500, size_M=800)\n",
        "laguerre.hist(normalization=True)"
      ]
    },
    {
      "cell_type": "markdown",
      "metadata": {
        "id": "5fIdJHxAoukP"
      },
      "source": [
        "And, again, the tridiagonal matrix model can feature more general values of the parameter $\\beta \\in \\mathbb{R}_+$."
      ]
    },
    {
      "cell_type": "code",
      "execution_count": null,
      "metadata": {
        "id": "4H8Zn19xoukQ"
      },
      "outputs": [],
      "source": [
        "laguerre.beta = 2.98  # Or laguerre = LaguerreEnsemble(beta=2.98)\n",
        "# Reference measure is Gamma(k, theta)\n",
        "laguerre.sample_banded_model(shape=600, scale=2.0, size_N=400)\n",
        "# laguerre.plot(normalization=True)\n",
        "laguerre.hist(normalization=True)"
      ]
    },
    {
      "cell_type": "markdown",
      "metadata": {
        "id": "jEHQEGYdtgut"
      },
      "source": [
        "Finally, when $\\beta=0$, the Laguerre ensemble boils down to i.i.d. $\\Gamma(k,\\theta)$ variables."
      ]
    },
    {
      "cell_type": "code",
      "execution_count": null,
      "metadata": {
        "id": "nwT5zqKxtgut"
      },
      "outputs": [],
      "source": [
        "laguerre.beta = 0\n",
        "# Reference measure is Gamma(k, theta)\n",
        "laguerre.sample_banded_model(shape=6, scale=4.0, size_N=1000)\n",
        "# laguerre.plot(normalization=True)\n",
        "laguerre.hist(normalization=True)  # True: Gamma(shape, 2) as in full matrix model"
      ]
    },
    {
      "cell_type": "markdown",
      "metadata": {
        "id": "iU8f6mqHjKaH"
      },
      "source": [
        "### The Jacobi ensemble"
      ]
    },
    {
      "cell_type": "markdown",
      "metadata": {
        "id": "b_qyaqrNtguu"
      },
      "source": [
        "Loosely speaking, the Jacobi ensemble is a repulsive version of points drawn i.i.d. from a beta law."
      ]
    },
    {
      "cell_type": "code",
      "execution_count": null,
      "metadata": {
        "id": "zEpR6Tf_oxU8"
      },
      "outputs": [],
      "source": [
        "from dppy.beta_ensembles import JacobiEnsemble\n",
        "\n",
        "jacobi = JacobiEnsemble(beta=2)  # beta can be >= 0, default beta=2"
      ]
    },
    {
      "cell_type": "markdown",
      "metadata": {
        "id": "7AlsA7CEoxU-"
      },
      "source": [
        "Again, there is a dense matrix model for $\\beta \\in \\{0, 1, 2, 4\\}$."
      ]
    },
    {
      "cell_type": "code",
      "execution_count": null,
      "metadata": {
        "id": "OgFOnXnUtguu"
      },
      "outputs": [],
      "source": [
        "jacobi.sample_full_model(size_N=400, size_M1=500, size_M2=600)  # M_1, M_2 >= N\n",
        "# jacobi.plot(normalization=True)\n",
        "jacobi.hist(normalization=True)"
      ]
    },
    {
      "cell_type": "markdown",
      "metadata": {
        "id": "k2ZWnHzctguu"
      },
      "source": [
        "Again, there is a faster tridiagonal model."
      ]
    },
    {
      "cell_type": "code",
      "execution_count": null,
      "metadata": {
        "id": "rvxKn7-otguu"
      },
      "outputs": [],
      "source": [
        "jacobi.sample_banded_model(size_N=400, size_M1=500, size_M2=600)\n",
        "jacobi.hist(normalization=True)"
      ]
    },
    {
      "cell_type": "markdown",
      "metadata": {
        "id": "N_nwy3G7oxVC"
      },
      "source": [
        "Again, the tridiagonal model can feature more general values of the parameter $\\beta \\in \\mathbb{R}_+$."
      ]
    },
    {
      "cell_type": "code",
      "execution_count": null,
      "metadata": {
        "id": "L4vvZE09oxVD"
      },
      "outputs": [],
      "source": [
        "# beta can be >= 0, default beta=2\n",
        "jacobi.beta = 3.14  # Or jacobi = JacobiEnsemble(beta=3.14)\n",
        "# Reference measure is Beta(a,b)\n",
        "jacobi.sample_banded_model(a=500, b=300, size_N=400)\n",
        "# jacobi.plot(normalization=True)\n",
        "jacobi.hist(normalization=True)"
      ]
    },
    {
      "cell_type": "markdown",
      "metadata": {
        "id": "plszuZPwtguu"
      },
      "source": [
        "And again, $\\beta=0$ boils down to drawing i.i.d. $\\operatorname{Beta}(a,b)$ random variables."
      ]
    },
    {
      "cell_type": "code",
      "execution_count": null,
      "metadata": {
        "id": "l9xH-mWGtguu"
      },
      "outputs": [],
      "source": [
        "jacobi.beta = 0\n",
        "# Reference measure is Beta(a, b)\n",
        "jacobi.sample_banded_model(a=6, b=4, size_N=1000)\n",
        "# jacobi.plot(normalization=True)\n",
        "jacobi.hist(normalization=True)  # True/False: Beta(a, b)"
      ]
    },
    {
      "cell_type": "markdown",
      "metadata": {
        "id": "DqtJtN82tguu"
      },
      "source": [
        "### The Ginibre ensemble\n",
        "\n",
        "This one is defined for $\\beta = 2$ only, and is usually defined by its dense matrix model. It corresponds to the eigenvalues of a matrix filled with i.i.d. complex unit Gaussians."
      ]
    },
    {
      "cell_type": "code",
      "execution_count": null,
      "metadata": {
        "id": "YnImFcretguu"
      },
      "outputs": [],
      "source": [
        "from dppy.beta_ensembles import GinibreEnsemble\n",
        "\n",
        "ginibre = GinibreEnsemble()  # beta must be 2 (default)"
      ]
    },
    {
      "cell_type": "code",
      "execution_count": null,
      "metadata": {
        "id": "4wq4kL9ttguu"
      },
      "outputs": [],
      "source": [
        "ginibre.sample_full_model(size_N=40)\n",
        "ginibre.plot(normalization=True)"
      ]
    },
    {
      "cell_type": "markdown",
      "metadata": {
        "id": "vVHCEGLEW_VN"
      },
      "source": [
        "# Tools behind the scene\n",
        "\n",
        "---\n",
        "\n",
        "\n",
        "This collaborative project is hosted on [GitHub](https://github.com/guilgautier/DPPy). **Feel free to contribute!** Start by raising an issue to indicate your suggestion or need.\n",
        "\n",
        "There is a companion paper [DPPy_paper](https://github.com/guilgautier/DPPy_paper) to this toolbox, please **cite it if you use the toolbox**.\n",
        "\n",
        "Finally, the documentation is on ReadTheDocs [![Documentation Status](https://readthedocs.org/projects/dppy/badge/?version=latest)](https://dppy.readthedocs.io/en/latest/?badge=latest)\n",
        "and continuous integration is guaranteed using Travis [![Build Status](https://travis-ci.com/guilgautier/DPPy.svg?branch=master)](https://travis-ci.com/guilgautier/DPPy)"
      ]
    },
    {
      "cell_type": "code",
      "execution_count": null,
      "metadata": {
        "id": "w0CpoBi1tguu"
      },
      "outputs": [],
      "source": []
    }
  ],
  "metadata": {
    "anaconda-cloud": {},
    "colab": {
      "collapsed_sections": [
        "Q12BjnKoucEq",
        "0eZbIbGwpKXw",
        "j8Z0KEZdxq_f",
        "ysnn747E04q8",
        "g4pzjDKhpBNd",
        "HYcJ2I1-pBNi",
        "KjMLG766JjlZ",
        "1GAlE1x7jIbb",
        "zgdCBYnUoukN",
        "5fIdJHxAoukP",
        "iU8f6mqHjKaH",
        "7AlsA7CEoxU-",
        "N_nwy3G7oxVC",
        "zQeHhkxZCewN",
        "wYxj7IepX7ag",
        "O9PX6gXkYCLZ",
        "ljKpQ-ByWlGJ",
        "nCR9jFCja7He",
        "hgcvUD60uIYR",
        "wHNVWQvFaVvr",
        "S1pOXnbarps3"
      ],
      "name": "Tuto_DPPy.ipynb",
      "provenance": []
    },
    "kernelspec": {
      "display_name": "Python 3",
      "language": "python",
      "name": "python3"
    },
    "language_info": {
      "codemirror_mode": {
        "name": "ipython",
        "version": 3
      },
      "file_extension": ".py",
      "mimetype": "text/x-python",
      "name": "python",
      "nbconvert_exporter": "python",
      "pygments_lexer": "ipython3",
      "version": "3.7.2"
    },
    "toc": {
      "base_numbering": 1,
      "nav_menu": {
        "height": "512px",
        "width": "252px"
      },
      "number_sections": true,
      "sideBar": false,
      "skip_h1_title": false,
      "title_cell": "Table of Contents",
      "title_sidebar": "Contents",
      "toc_cell": true,
      "toc_position": {
        "height": "356.438px",
        "left": "687.469px",
        "right": "20px",
        "top": "110px",
        "width": "449.141px"
      },
      "toc_section_display": false,
      "toc_window_display": false
    }
  },
  "nbformat": 4,
  "nbformat_minor": 0
}